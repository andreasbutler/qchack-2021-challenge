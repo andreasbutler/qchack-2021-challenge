{
 "cells": [
  {
   "cell_type": "code",
   "execution_count": 524,
   "metadata": {},
   "outputs": [],
   "source": [
    "import numpy as np\n",
    "import cirq\n",
    "from scipy.linalg import svd"
   ]
  },
  {
   "cell_type": "code",
   "execution_count": 2,
   "metadata": {},
   "outputs": [
    {
     "name": "stdout",
     "output_type": "stream",
     "text": [
      "                                             (0, 5)────(0, 6)\n",
      "                                             │         │\n",
      "                                             │         │\n",
      "                                    (1, 4)───(1, 5)────(1, 6)────(1, 7)\n",
      "                                    │        │         │         │\n",
      "                                    │        │         │         │\n",
      "                           (2, 3)───(2, 4)───(2, 5)────(2, 6)────(2, 7)───(2, 8)\n",
      "                           │        │        │         │         │        │\n",
      "                           │        │        │         │         │        │\n",
      "                  (3, 2)───(3, 3)───(3, 4)───(3, 5)────(3, 6)────(3, 7)───(3, 8)───(3, 9)\n",
      "                  │        │        │        │         │         │        │        │\n",
      "                  │        │        │        │         │         │        │        │\n",
      "         (4, 1)───(4, 2)───(4, 3)───(4, 4)───(4, 5)────(4, 6)────(4, 7)───(4, 8)───(4, 9)───(4, 10)\n",
      "         │        │        │        │        │         │         │        │        │        │\n",
      "         │        │        │        │        │         │         │        │        │        │\n",
      "(5, 0)───(5, 1)───(5, 2)───(5, 3)───(5, 4)───(5, 5)────(5, 6)────(5, 7)───(5, 8)───(5, 9)───(5, 10)───(5, 11)\n",
      "         │        │        │        │        │         │         │        │        │        │\n",
      "         │        │        │        │        │         │         │        │        │        │\n",
      "         (6, 1)───(6, 2)───(6, 3)───(6, 4)───(6, 5)────(6, 6)────(6, 7)───(6, 8)───(6, 9)───(6, 10)\n",
      "                  │        │        │        │         │         │        │        │\n",
      "                  │        │        │        │         │         │        │        │\n",
      "                  (7, 2)───(7, 3)───(7, 4)───(7, 5)────(7, 6)────(7, 7)───(7, 8)───(7, 9)\n",
      "                           │        │        │         │         │        │\n",
      "                           │        │        │         │         │        │\n",
      "                           (8, 3)───(8, 4)───(8, 5)────(8, 6)────(8, 7)───(8, 8)\n",
      "                                    │        │         │         │\n",
      "                                    │        │         │         │\n",
      "                                    (9, 4)───(9, 5)────(9, 6)────(9, 7)\n",
      "                                             │         │\n",
      "                                             │         │\n",
      "                                             (10, 5)───(10, 6)\n"
     ]
    }
   ],
   "source": [
    "print(cirq.google.Bristlecone)"
   ]
  },
  {
   "cell_type": "code",
   "execution_count": 7,
   "metadata": {},
   "outputs": [
    {
     "name": "stdout",
     "output_type": "stream",
     "text": [
      "          ┌──┐\n",
      "0: ───H─────@────────\n",
      "            │\n",
      "1: ───H────@┼────H───\n",
      "           ││\n",
      "2: ────────X┼────────\n",
      "            │\n",
      "3: ─────────X────────\n",
      "          └──┘\n"
     ]
    }
   ],
   "source": [
    "q0 = cirq.NamedQubit(\"0\")\n",
    "q1 = cirq.NamedQubit(\"1\")\n",
    "q2 = cirq.NamedQubit(\"2\")\n",
    "q3 = cirq.NamedQubit(\"3\")\n",
    "\n",
    "ops = [cirq.H(q0), cirq.H(q1), cirq.CNOT(q1, q2), cirq.CNOT(q0, q3), cirq.H(q1)]\n",
    "circuit = cirq.Circuit(ops)\n",
    "print(circuit)"
   ]
  },
  {
   "cell_type": "code",
   "execution_count": 13,
   "metadata": {},
   "outputs": [
    {
     "name": "stdout",
     "output_type": "stream",
     "text": [
      "  ╷ None\n",
      "╶─┼──────\n",
      "0 │ H\n",
      "  │\n",
      "1 │ H\n",
      "  │\n",
      "  ╷ None\n",
      "╶─┼──────\n",
      "0 │ @\n",
      "  │ │\n",
      "1 │ @\n",
      "  │ │\n",
      "2 │ X\n",
      "  │ │\n",
      "3 │ X\n",
      "  │\n",
      "  ╷ None\n",
      "╶─┼──────\n",
      "1 │ H\n",
      "  │\n"
     ]
    }
   ],
   "source": [
    "for i, moment in enumerate(circuit):\n",
    "    print(moment)"
   ]
  },
  {
   "cell_type": "code",
   "execution_count": 14,
   "metadata": {},
   "outputs": [
    {
     "name": "stdout",
     "output_type": "stream",
     "text": [
      "cirq.Circuit([\n",
      "    cirq.Moment(\n",
      "        cirq.H(cirq.NamedQubit('0')),\n",
      "        cirq.H(cirq.NamedQubit('1')),\n",
      "    ),\n",
      "    cirq.Moment(\n",
      "        cirq.CNOT(cirq.NamedQubit('1'), cirq.NamedQubit('2')),\n",
      "        cirq.CNOT(cirq.NamedQubit('0'), cirq.NamedQubit('3')),\n",
      "    ),\n",
      "    cirq.Moment(\n",
      "        cirq.H(cirq.NamedQubit('1')),\n",
      "    ),\n",
      "])\n"
     ]
    }
   ],
   "source": [
    "print(repr(circuit))"
   ]
  },
  {
   "cell_type": "code",
   "execution_count": 15,
   "metadata": {},
   "outputs": [
    {
     "name": "stdout",
     "output_type": "stream",
     "text": [
      "                                             (0, 5)───(0, 6)\n",
      "                                             │        │\n",
      "                                             │        │\n",
      "                                    (1, 4)───(1, 5)───(1, 6)───(1, 7)\n",
      "                                    │        │        │        │\n",
      "                                    │        │        │        │\n",
      "                           (2, 3)───(2, 4)───(2, 5)───(2, 6)───(2, 7)───(2, 8)\n",
      "                           │        │        │        │        │        │\n",
      "                           │        │        │        │        │        │\n",
      "                  (3, 2)───(3, 3)───(3, 4)───(3, 5)───(3, 6)───(3, 7)───(3, 8)───(3, 9)\n",
      "                  │        │        │        │        │        │        │        │\n",
      "                  │        │        │        │        │        │        │        │\n",
      "         (4, 1)───(4, 2)───(4, 3)───(4, 4)───(4, 5)───(4, 6)───(4, 7)───(4, 8)───(4, 9)\n",
      "         │        │        │        │        │        │        │        │\n",
      "         │        │        │        │        │        │        │        │\n",
      "(5, 0)───(5, 1)───(5, 2)───(5, 3)───(5, 4)───(5, 5)───(5, 6)───(5, 7)───(5, 8)\n",
      "         │        │        │        │        │        │        │\n",
      "         │        │        │        │        │        │        │\n",
      "         (6, 1)───(6, 2)───(6, 3)───(6, 4)───(6, 5)───(6, 6)───(6, 7)\n",
      "                  │        │        │        │        │\n",
      "                  │        │        │        │        │\n",
      "                  (7, 2)───(7, 3)───(7, 4)───(7, 5)───(7, 6)\n",
      "                           │        │        │\n",
      "                           │        │        │\n",
      "                           (8, 3)───(8, 4)───(8, 5)\n",
      "                                    │\n",
      "                                    │\n",
      "                                    (9, 4)\n"
     ]
    }
   ],
   "source": [
    "print(cirq.google.Sycamore)"
   ]
  },
  {
   "cell_type": "code",
   "execution_count": 17,
   "metadata": {},
   "outputs": [
    {
     "name": "stdout",
     "output_type": "stream",
     "text": [
      "0\n",
      "0\n",
      "2\n",
      "13\n",
      "60\n",
      "252\n",
      "1019\n",
      "4090\n",
      "16377\n",
      "65529\n",
      "262136\n"
     ]
    }
   ],
   "source": [
    "for i in range(0, 11):\n",
    "    print(int(1 / 4 * (4 ** i - 3 * i - 1)))"
   ]
  },
  {
   "cell_type": "code",
   "execution_count": 20,
   "metadata": {},
   "outputs": [
    {
     "name": "stdout",
     "output_type": "stream",
     "text": [
      "0 1\n"
     ]
    }
   ],
   "source": [
    "print(*(cirq.LineQubit.range(2)))"
   ]
  },
  {
   "cell_type": "code",
   "execution_count": 59,
   "metadata": {},
   "outputs": [
    {
     "name": "stdout",
     "output_type": "stream",
     "text": [
      "(3, 3): ───PhXZ(a=-0.25,x=0,z=0.75)───iSwap────────PhXZ(a=-1,x=0,z=-0.5)───iSwap────────PhXZ(a=-0.167,x=0.042,z=0.167)───iSwap────────PhXZ(a=-1,x=0.118,z=0)───iSwap───────PhXZ(a=0,x=0.042,z=0)───\n",
      "                                      │                                    │                                             │                                     │\n",
      "(3, 4): ───PhXZ(a=0.25,x=0,z=0.25)────iSwap^-0.5───PhXZ(a=-1,x=0,z=-0.5)───iSwap^-0.5───PhXZ(a=0.333,x=0.5,z=-0.333)─────iSwap^-0.5────────────────────────────iSwap^0.5───PhXZ(a=-1,x=0.5,z=0)────\n"
     ]
    }
   ],
   "source": [
    "xx = cirq.google.SycamoreGate()(cirq.GridQubit(3,3), cirq.GridQubit(3, 4))\n",
    "converter = cirq.google.ConvertToSycamoreGates()\n",
    "xx = converter.convert(xx)\n",
    "c = cirq.Circuit(xx)\n",
    "c = cirq.google.optimized_for_sycamore(c)\n",
    "\n",
    "print(c)\n",
    "\n"
   ]
  },
  {
   "cell_type": "code",
   "execution_count": 54,
   "metadata": {},
   "outputs": [
    {
     "name": "stdout",
     "output_type": "stream",
     "text": [
      "(3, 3): ───SYC───\n",
      "           │\n",
      "(3, 4): ───SYC───\n"
     ]
    }
   ],
   "source": [
    "print(c)"
   ]
  },
  {
   "cell_type": "code",
   "execution_count": 69,
   "metadata": {},
   "outputs": [
    {
     "ename": "AttributeError",
     "evalue": "'GateOperation' object has no attribute 'operations'",
     "output_type": "error",
     "traceback": [
      "\u001b[0;31m---------------------------------------------------------------------------\u001b[0m",
      "\u001b[0;31mAttributeError\u001b[0m                            Traceback (most recent call last)",
      "\u001b[0;32m<ipython-input-69-8df46ad2cd46>\u001b[0m in \u001b[0;36m<module>\u001b[0;34m\u001b[0m\n\u001b[1;32m      3\u001b[0m \u001b[0mconverter\u001b[0m \u001b[0;34m=\u001b[0m \u001b[0mcirq\u001b[0m\u001b[0;34m.\u001b[0m\u001b[0mgoogle\u001b[0m\u001b[0;34m.\u001b[0m\u001b[0mConvertToSycamoreGates\u001b[0m\u001b[0;34m(\u001b[0m\u001b[0;34m)\u001b[0m\u001b[0;34m\u001b[0m\u001b[0;34m\u001b[0m\u001b[0m\n\u001b[1;32m      4\u001b[0m \u001b[0mc\u001b[0m \u001b[0;34m=\u001b[0m \u001b[0mconverter\u001b[0m\u001b[0;34m.\u001b[0m\u001b[0mconvert\u001b[0m\u001b[0;34m(\u001b[0m\u001b[0mc\u001b[0m\u001b[0;34m)\u001b[0m\u001b[0;34m\u001b[0m\u001b[0;34m\u001b[0m\u001b[0m\n\u001b[0;32m----> 5\u001b[0;31m \u001b[0mc\u001b[0m \u001b[0;34m=\u001b[0m \u001b[0mcirq\u001b[0m\u001b[0;34m.\u001b[0m\u001b[0mgoogle\u001b[0m\u001b[0;34m.\u001b[0m\u001b[0moptimized_for_sycamore\u001b[0m\u001b[0;34m(\u001b[0m\u001b[0mc\u001b[0m\u001b[0;34m)\u001b[0m\u001b[0;34m\u001b[0m\u001b[0;34m\u001b[0m\u001b[0m\n\u001b[0m\u001b[1;32m      6\u001b[0m \u001b[0;34m\u001b[0m\u001b[0m\n\u001b[1;32m      7\u001b[0m \u001b[0mprint\u001b[0m\u001b[0;34m(\u001b[0m\u001b[0mc\u001b[0m\u001b[0;34m)\u001b[0m\u001b[0;34m\u001b[0m\u001b[0;34m\u001b[0m\u001b[0m\n",
      "\u001b[0;32m/usr/local/anaconda3/lib/python3.7/site-packages/cirq/google/optimizers/optimize_for_sycamore.py\u001b[0m in \u001b[0;36moptimized_for_sycamore\u001b[0;34m(circuit, new_device, qubit_map, optimizer_type, tolerance, tabulation_resolution)\u001b[0m\n\u001b[1;32m    159\u001b[0m     \u001b[0mopts\u001b[0m \u001b[0;34m=\u001b[0m \u001b[0m_OPTIMIZER_TYPES\u001b[0m\u001b[0;34m[\u001b[0m\u001b[0moptimizer_type\u001b[0m\u001b[0;34m]\u001b[0m\u001b[0;34m(\u001b[0m\u001b[0mtolerance\u001b[0m\u001b[0;34m=\u001b[0m\u001b[0mtolerance\u001b[0m\u001b[0;34m,\u001b[0m \u001b[0mtabulation\u001b[0m\u001b[0;34m=\u001b[0m\u001b[0mtabulation\u001b[0m\u001b[0;34m)\u001b[0m\u001b[0;34m\u001b[0m\u001b[0;34m\u001b[0m\u001b[0m\n\u001b[1;32m    160\u001b[0m     \u001b[0;32mfor\u001b[0m \u001b[0moptimizer\u001b[0m \u001b[0;32min\u001b[0m \u001b[0mopts\u001b[0m\u001b[0;34m:\u001b[0m\u001b[0;34m\u001b[0m\u001b[0;34m\u001b[0m\u001b[0m\n\u001b[0;32m--> 161\u001b[0;31m         \u001b[0moptimizer\u001b[0m\u001b[0;34m(\u001b[0m\u001b[0mcopy\u001b[0m\u001b[0;34m)\u001b[0m\u001b[0;34m\u001b[0m\u001b[0;34m\u001b[0m\u001b[0m\n\u001b[0m\u001b[1;32m    162\u001b[0m \u001b[0;34m\u001b[0m\u001b[0m\n\u001b[1;32m    163\u001b[0m     return circuits.Circuit(\n",
      "\u001b[0;32m/usr/local/anaconda3/lib/python3.7/site-packages/cirq/circuits/optimization_pass.py\u001b[0m in \u001b[0;36moptimize_circuit\u001b[0;34m(self, circuit)\u001b[0m\n\u001b[1;32m    131\u001b[0m         \u001b[0mi\u001b[0m \u001b[0;34m=\u001b[0m \u001b[0;36m0\u001b[0m\u001b[0;34m\u001b[0m\u001b[0;34m\u001b[0m\u001b[0m\n\u001b[1;32m    132\u001b[0m         \u001b[0;32mwhile\u001b[0m \u001b[0mi\u001b[0m \u001b[0;34m<\u001b[0m \u001b[0mlen\u001b[0m\u001b[0;34m(\u001b[0m\u001b[0mcircuit\u001b[0m\u001b[0;34m)\u001b[0m\u001b[0;34m:\u001b[0m  \u001b[0;31m# Note: circuit may mutate as we go.\u001b[0m\u001b[0;34m\u001b[0m\u001b[0;34m\u001b[0m\u001b[0m\n\u001b[0;32m--> 133\u001b[0;31m             \u001b[0;32mfor\u001b[0m \u001b[0mop\u001b[0m \u001b[0;32min\u001b[0m \u001b[0mcircuit\u001b[0m\u001b[0;34m[\u001b[0m\u001b[0mi\u001b[0m\u001b[0;34m]\u001b[0m\u001b[0;34m.\u001b[0m\u001b[0moperations\u001b[0m\u001b[0;34m:\u001b[0m\u001b[0;34m\u001b[0m\u001b[0;34m\u001b[0m\u001b[0m\n\u001b[0m\u001b[1;32m    134\u001b[0m                 \u001b[0;31m# Don't touch stuff inserted by previous optimizations.\u001b[0m\u001b[0;34m\u001b[0m\u001b[0;34m\u001b[0m\u001b[0;34m\u001b[0m\u001b[0m\n\u001b[1;32m    135\u001b[0m                 \u001b[0;32mif\u001b[0m \u001b[0many\u001b[0m\u001b[0;34m(\u001b[0m\u001b[0mfrontier\u001b[0m\u001b[0;34m[\u001b[0m\u001b[0mq\u001b[0m\u001b[0;34m]\u001b[0m \u001b[0;34m>\u001b[0m \u001b[0mi\u001b[0m \u001b[0;32mfor\u001b[0m \u001b[0mq\u001b[0m \u001b[0;32min\u001b[0m \u001b[0mop\u001b[0m\u001b[0;34m.\u001b[0m\u001b[0mqubits\u001b[0m\u001b[0;34m)\u001b[0m\u001b[0;34m:\u001b[0m\u001b[0;34m\u001b[0m\u001b[0;34m\u001b[0m\u001b[0m\n",
      "\u001b[0;31mAttributeError\u001b[0m: 'GateOperation' object has no attribute 'operations'"
     ]
    }
   ],
   "source": [
    "xx = cirq.google.SycamoreGate().on(cirq.GridQubit(3,3), cirq.GridQubit(3, 4))\n",
    "c = cirq.Circuit(xx)\n",
    "converter = cirq.google.ConvertToSycamoreGates()\n",
    "c = converter.convert(c)\n",
    "c = cirq.google.optimized_for_sycamore(c)\n",
    "\n",
    "print(c)"
   ]
  },
  {
   "cell_type": "code",
   "execution_count": 70,
   "metadata": {},
   "outputs": [
    {
     "name": "stdout",
     "output_type": "stream",
     "text": [
      "(0, 0): ───PhXZ(a=-0.25,x=0,z=0.75)───iSwap────────PhXZ(a=-1,x=0,z=-0.5)───iSwap────────PhXZ(a=-0.167,x=0.042,z=0.167)───iSwap────────PhXZ(a=-1,x=0.118,z=0)───iSwap───────PhXZ(a=0,x=0.042,z=0)───\n",
      "                                      │                                    │                                             │                                     │\n",
      "(0, 1): ───PhXZ(a=0.25,x=0,z=0.25)────iSwap^-0.5───PhXZ(a=-1,x=0,z=-0.5)───iSwap^-0.5───PhXZ(a=0.333,x=0.5,z=-0.333)─────iSwap^-0.5────────────────────────────iSwap^0.5───PhXZ(a=-1,x=0.5,z=0)────\n"
     ]
    }
   ],
   "source": [
    "g = cirq.google.SycamoreGate().on(cirq.GridQubit(0, 0), cirq.GridQubit(0, 1))\n",
    "g = converter.convert(g)\n",
    "c = cirq.Circuit(g)\n",
    "c = cirq.google.optimized_for_sycamore(c)\n",
    "print(c)"
   ]
  },
  {
   "cell_type": "code",
   "execution_count": 79,
   "metadata": {},
   "outputs": [],
   "source": [
    "gate = cirq.CZ\n",
    "target_qubits = [cirq.GridQubit(0,0), cirq.GridQubit(0, 1)]#, cirq.GridQubit(1, 0), cirq.GridQubit(1, 1)]\n",
    "g = gate.on(*target_qubits)\n",
    "c = cirq.Circuit(g)\n",
    "c = converter.convert(c)\n",
    "#c = cirq.google.optimized_for_sycamore(c, optimizer_type=\"sycamore\")"
   ]
  },
  {
   "cell_type": "code",
   "execution_count": 80,
   "metadata": {},
   "outputs": [
    {
     "name": "stdout",
     "output_type": "stream",
     "text": [
      "[cirq.PhasedXPowGate(phase_exponent=0.5678998743900456, exponent=0.5863459345743176).on(cirq.GridQubit(0, 0)), cirq.PhasedXPowGate(phase_exponent=0.3549946157441739).on(cirq.GridQubit(0, 1)), cirq.google.SYC(cirq.GridQubit(0, 0), cirq.GridQubit(0, 1)), cirq.PhasedXPowGate(phase_exponent=-0.5154334589432878, exponent=0.5228733015013345).on(cirq.GridQubit(0, 1)), cirq.PhasedXPowGate(phase_exponent=0.06774925307475355).on(cirq.GridQubit(0, 0)), cirq.google.SYC(cirq.GridQubit(0, 0), cirq.GridQubit(0, 1)), cirq.PhasedXPowGate(phase_exponent=-0.5987667922766213, exponent=0.4136540654256824).on(cirq.GridQubit(0, 0)), (cirq.Z**-0.9255092746611595).on(cirq.GridQubit(0, 1)), (cirq.Z**-1.333333333333333).on(cirq.GridQubit(0, 0))]\n"
     ]
    }
   ],
   "source": [
    "print(c)"
   ]
  },
  {
   "cell_type": "code",
   "execution_count": 88,
   "metadata": {},
   "outputs": [],
   "source": [
    "gbare = cirq.ControlledGate(cirq.CCX).on(*(cirq.LineQubit.range(4)))\n",
    "g = gbare._decompose_()"
   ]
  },
  {
   "cell_type": "code",
   "execution_count": 89,
   "metadata": {},
   "outputs": [],
   "source": [
    "holder = []\n",
    "for dg in g:\n",
    "    holder.extend(dg._decompose_())"
   ]
  },
  {
   "cell_type": "code",
   "execution_count": 90,
   "metadata": {},
   "outputs": [
    {
     "name": "stdout",
     "output_type": "stream",
     "text": [
      "[(cirq.Y**0.5).on(cirq.LineQubit(3)).controlled_by(cirq.LineQubit(0)), cirq.XPowGate(exponent=1.0, global_shift=-0.25).on(cirq.LineQubit(3)).controlled_by(cirq.LineQubit(0)), cirq.T(cirq.LineQubit(1)).controlled_by(cirq.LineQubit(0)), cirq.T(cirq.LineQubit(2)).controlled_by(cirq.LineQubit(0)), cirq.T(cirq.LineQubit(3)).controlled_by(cirq.LineQubit(0)), cirq.CNOT(cirq.LineQubit(1), cirq.LineQubit(2)).controlled_by(cirq.LineQubit(0)), cirq.CNOT(cirq.LineQubit(2), cirq.LineQubit(3)).controlled_by(cirq.LineQubit(0)), (cirq.T**-1).on(cirq.LineQubit(2)).controlled_by(cirq.LineQubit(0)), cirq.T(cirq.LineQubit(3)).controlled_by(cirq.LineQubit(0)), cirq.CNOT(cirq.LineQubit(1), cirq.LineQubit(2)).controlled_by(cirq.LineQubit(0)), cirq.CNOT(cirq.LineQubit(2), cirq.LineQubit(3)).controlled_by(cirq.LineQubit(0)), (cirq.T**-1).on(cirq.LineQubit(3)).controlled_by(cirq.LineQubit(0)), cirq.CNOT(cirq.LineQubit(1), cirq.LineQubit(2)).controlled_by(cirq.LineQubit(0)), cirq.CNOT(cirq.LineQubit(2), cirq.LineQubit(3)).controlled_by(cirq.LineQubit(0)), (cirq.T**-1).on(cirq.LineQubit(3)).controlled_by(cirq.LineQubit(0)), cirq.CNOT(cirq.LineQubit(1), cirq.LineQubit(2)).controlled_by(cirq.LineQubit(0)), cirq.CNOT(cirq.LineQubit(2), cirq.LineQubit(3)).controlled_by(cirq.LineQubit(0)), (cirq.Y**0.5).on(cirq.LineQubit(3)).controlled_by(cirq.LineQubit(0)), cirq.XPowGate(exponent=1.0, global_shift=-0.25).on(cirq.LineQubit(3)).controlled_by(cirq.LineQubit(0))]\n"
     ]
    }
   ],
   "source": [
    "print(holder)"
   ]
  },
  {
   "cell_type": "code",
   "execution_count": 164,
   "metadata": {},
   "outputs": [
    {
     "ename": "ValueError",
     "evalue": "Operation doesn't satisfy the given `keep` but can't be decomposed: cirq.CZ(cirq.LineQubit(1), cirq.LineQubit(2)).controlled_by(cirq.LineQubit(0))",
     "output_type": "error",
     "traceback": [
      "\u001b[0;31m---------------------------------------------------------------------------\u001b[0m",
      "\u001b[0;31mValueError\u001b[0m                                Traceback (most recent call last)",
      "\u001b[0;32m<ipython-input-164-393f1294c502>\u001b[0m in \u001b[0;36m<module>\u001b[0;34m\u001b[0m\n\u001b[1;32m      4\u001b[0m     \u001b[0;32melse\u001b[0m\u001b[0;34m:\u001b[0m\u001b[0;34m\u001b[0m\u001b[0;34m\u001b[0m\u001b[0m\n\u001b[1;32m      5\u001b[0m         \u001b[0;32mreturn\u001b[0m \u001b[0;32mFalse\u001b[0m\u001b[0;34m\u001b[0m\u001b[0;34m\u001b[0m\u001b[0m\n\u001b[0;32m----> 6\u001b[0;31m \u001b[0mcirq\u001b[0m\u001b[0;34m.\u001b[0m\u001b[0mdecompose\u001b[0m\u001b[0;34m(\u001b[0m\u001b[0mgbare\u001b[0m\u001b[0;34m,\u001b[0m \u001b[0mkeep\u001b[0m\u001b[0;34m=\u001b[0m\u001b[0mkeep_func\u001b[0m\u001b[0;34m)\u001b[0m\u001b[0;34m\u001b[0m\u001b[0;34m\u001b[0m\u001b[0m\n\u001b[0m",
      "\u001b[0;32m/usr/local/anaconda3/lib/python3.7/site-packages/cirq/protocols/decompose_protocol.py\u001b[0m in \u001b[0;36mdecompose\u001b[0;34m(val, intercepting_decomposer, fallback_decomposer, keep, on_stuck_raise)\u001b[0m\n\u001b[1;32m    247\u001b[0m             \u001b[0;32mcontinue\u001b[0m\u001b[0;34m\u001b[0m\u001b[0;34m\u001b[0m\u001b[0m\n\u001b[1;32m    248\u001b[0m \u001b[0;34m\u001b[0m\u001b[0m\n\u001b[0;32m--> 249\u001b[0;31m         \u001b[0;32mif\u001b[0m \u001b[0;32mnot\u001b[0m \u001b[0misinstance\u001b[0m\u001b[0;34m(\u001b[0m\u001b[0mitem\u001b[0m\u001b[0;34m,\u001b[0m \u001b[0mops\u001b[0m\u001b[0;34m.\u001b[0m\u001b[0mOperation\u001b[0m\u001b[0;34m)\u001b[0m \u001b[0;32mand\u001b[0m \u001b[0misinstance\u001b[0m\u001b[0;34m(\u001b[0m\u001b[0mitem\u001b[0m\u001b[0;34m,\u001b[0m \u001b[0mIterable\u001b[0m\u001b[0;34m)\u001b[0m\u001b[0;34m:\u001b[0m\u001b[0;34m\u001b[0m\u001b[0;34m\u001b[0m\u001b[0m\n\u001b[0m\u001b[1;32m    250\u001b[0m             \u001b[0mqueue\u001b[0m\u001b[0;34m[\u001b[0m\u001b[0;34m:\u001b[0m\u001b[0;36m0\u001b[0m\u001b[0;34m]\u001b[0m \u001b[0;34m=\u001b[0m \u001b[0mops\u001b[0m\u001b[0;34m.\u001b[0m\u001b[0mflatten_to_ops\u001b[0m\u001b[0;34m(\u001b[0m\u001b[0mitem\u001b[0m\u001b[0;34m)\u001b[0m\u001b[0;34m\u001b[0m\u001b[0;34m\u001b[0m\u001b[0m\n\u001b[1;32m    251\u001b[0m             \u001b[0;32mcontinue\u001b[0m\u001b[0;34m\u001b[0m\u001b[0;34m\u001b[0m\u001b[0m\n",
      "\u001b[0;31mValueError\u001b[0m: Operation doesn't satisfy the given `keep` but can't be decomposed: cirq.CZ(cirq.LineQubit(1), cirq.LineQubit(2)).controlled_by(cirq.LineQubit(0))"
     ]
    }
   ],
   "source": [
    "def keep_func(gate):\n",
    "    if cirq.unitary(gate).shape[0] < 5:\n",
    "        return True\n",
    "    else:\n",
    "        return False\n",
    "cirq.decompose(gbare, keep=keep_func)"
   ]
  },
  {
   "cell_type": "code",
   "execution_count": 132,
   "metadata": {},
   "outputs": [
    {
     "ename": "ValueError",
     "evalue": "Operation doesn't satisfy the given `keep` but can't be decomposed: cirq.CZ(cirq.LineQubit(1), cirq.LineQubit(2)).controlled_by(cirq.LineQubit(0))",
     "output_type": "error",
     "traceback": [
      "\u001b[0;31m---------------------------------------------------------------------------\u001b[0m",
      "\u001b[0;31mValueError\u001b[0m                                Traceback (most recent call last)",
      "\u001b[0;32m<ipython-input-132-9c8dd2900b61>\u001b[0m in \u001b[0;36m<module>\u001b[0;34m\u001b[0m\n\u001b[1;32m      1\u001b[0m \u001b[0mtoffoli\u001b[0m \u001b[0;34m=\u001b[0m \u001b[0mcirq\u001b[0m\u001b[0;34m.\u001b[0m\u001b[0mControlledGate\u001b[0m\u001b[0;34m(\u001b[0m\u001b[0mcirq\u001b[0m\u001b[0;34m.\u001b[0m\u001b[0mCZ\u001b[0m\u001b[0;34m)\u001b[0m\u001b[0;34m(\u001b[0m\u001b[0;34m*\u001b[0m\u001b[0;34m(\u001b[0m\u001b[0mcirq\u001b[0m\u001b[0;34m.\u001b[0m\u001b[0mLineQubit\u001b[0m\u001b[0;34m.\u001b[0m\u001b[0mrange\u001b[0m\u001b[0;34m(\u001b[0m\u001b[0;36m3\u001b[0m\u001b[0;34m)\u001b[0m\u001b[0;34m)\u001b[0m\u001b[0;34m)\u001b[0m\u001b[0;34m\u001b[0m\u001b[0;34m\u001b[0m\u001b[0m\n\u001b[0;32m----> 2\u001b[0;31m \u001b[0mcirq\u001b[0m\u001b[0;34m.\u001b[0m\u001b[0mdecompose\u001b[0m\u001b[0;34m(\u001b[0m\u001b[0mtoffoli\u001b[0m\u001b[0;34m,\u001b[0m \u001b[0mkeep\u001b[0m \u001b[0;34m=\u001b[0m \u001b[0mkeep_func\u001b[0m\u001b[0;34m)\u001b[0m\u001b[0;34m\u001b[0m\u001b[0;34m\u001b[0m\u001b[0m\n\u001b[0m",
      "\u001b[0;32m/usr/local/anaconda3/lib/python3.7/site-packages/cirq/protocols/decompose_protocol.py\u001b[0m in \u001b[0;36mdecompose\u001b[0;34m(val, intercepting_decomposer, fallback_decomposer, keep, on_stuck_raise)\u001b[0m\n\u001b[1;32m    247\u001b[0m             \u001b[0;32mcontinue\u001b[0m\u001b[0;34m\u001b[0m\u001b[0;34m\u001b[0m\u001b[0m\n\u001b[1;32m    248\u001b[0m \u001b[0;34m\u001b[0m\u001b[0m\n\u001b[0;32m--> 249\u001b[0;31m         \u001b[0;32mif\u001b[0m \u001b[0;32mnot\u001b[0m \u001b[0misinstance\u001b[0m\u001b[0;34m(\u001b[0m\u001b[0mitem\u001b[0m\u001b[0;34m,\u001b[0m \u001b[0mops\u001b[0m\u001b[0;34m.\u001b[0m\u001b[0mOperation\u001b[0m\u001b[0;34m)\u001b[0m \u001b[0;32mand\u001b[0m \u001b[0misinstance\u001b[0m\u001b[0;34m(\u001b[0m\u001b[0mitem\u001b[0m\u001b[0;34m,\u001b[0m \u001b[0mIterable\u001b[0m\u001b[0;34m)\u001b[0m\u001b[0;34m:\u001b[0m\u001b[0;34m\u001b[0m\u001b[0;34m\u001b[0m\u001b[0m\n\u001b[0m\u001b[1;32m    250\u001b[0m             \u001b[0mqueue\u001b[0m\u001b[0;34m[\u001b[0m\u001b[0;34m:\u001b[0m\u001b[0;36m0\u001b[0m\u001b[0;34m]\u001b[0m \u001b[0;34m=\u001b[0m \u001b[0mops\u001b[0m\u001b[0;34m.\u001b[0m\u001b[0mflatten_to_ops\u001b[0m\u001b[0;34m(\u001b[0m\u001b[0mitem\u001b[0m\u001b[0;34m)\u001b[0m\u001b[0;34m\u001b[0m\u001b[0;34m\u001b[0m\u001b[0m\n\u001b[1;32m    251\u001b[0m             \u001b[0;32mcontinue\u001b[0m\u001b[0;34m\u001b[0m\u001b[0;34m\u001b[0m\u001b[0m\n",
      "\u001b[0;31mValueError\u001b[0m: Operation doesn't satisfy the given `keep` but can't be decomposed: cirq.CZ(cirq.LineQubit(1), cirq.LineQubit(2)).controlled_by(cirq.LineQubit(0))"
     ]
    }
   ],
   "source": [
    "toffoli = cirq.ControlledGate(cirq.CZ)(*(cirq.LineQubit.range(3)))\n",
    "cirq.decompose(toffoli, keep = keep_func)"
   ]
  },
  {
   "cell_type": "code",
   "execution_count": 100,
   "metadata": {},
   "outputs": [
    {
     "ename": "AttributeError",
     "evalue": "module 'cirq' has no attribute 'DiagonalGate'",
     "output_type": "error",
     "traceback": [
      "\u001b[0;31m---------------------------------------------------------------------------\u001b[0m",
      "\u001b[0;31mAttributeError\u001b[0m                            Traceback (most recent call last)",
      "\u001b[0;32m<ipython-input-100-c0fc70c4f707>\u001b[0m in \u001b[0;36m<module>\u001b[0;34m\u001b[0m\n\u001b[0;32m----> 1\u001b[0;31m \u001b[0mdiag\u001b[0m \u001b[0;34m=\u001b[0m \u001b[0mcirq\u001b[0m\u001b[0;34m.\u001b[0m\u001b[0mDiagonalGate\u001b[0m\u001b[0;34m(\u001b[0m\u001b[0mtoffoli\u001b[0m\u001b[0;34m)\u001b[0m\u001b[0;34m\u001b[0m\u001b[0;34m\u001b[0m\u001b[0m\n\u001b[0m",
      "\u001b[0;31mAttributeError\u001b[0m: module 'cirq' has no attribute 'DiagonalGate'"
     ]
    }
   ],
   "source": [
    "diag = cirq.DiagonalGate(toffoli)"
   ]
  },
  {
   "cell_type": "code",
   "execution_count": 116,
   "metadata": {},
   "outputs": [
    {
     "name": "stdout",
     "output_type": "stream",
     "text": [
      "cirq.CZ(cirq.LineQubit(1), cirq.LineQubit(2)).controlled_by(cirq.LineQubit(0))\n",
      "CCZ(0, 1, 2)\n"
     ]
    }
   ],
   "source": [
    "print(repr(toffoli))\n",
    "print(toffoli)"
   ]
  },
  {
   "cell_type": "code",
   "execution_count": 113,
   "metadata": {},
   "outputs": [
    {
     "data": {
      "text/plain": [
       "[cirq.T(cirq.LineQubit(0)),\n",
       " cirq.T(cirq.LineQubit(1)),\n",
       " cirq.T(cirq.LineQubit(2)),\n",
       " cirq.CNOT(cirq.LineQubit(0), cirq.LineQubit(1)),\n",
       " cirq.CNOT(cirq.LineQubit(1), cirq.LineQubit(2)),\n",
       " (cirq.T**-1).on(cirq.LineQubit(1)),\n",
       " cirq.T(cirq.LineQubit(2)),\n",
       " cirq.CNOT(cirq.LineQubit(0), cirq.LineQubit(1)),\n",
       " cirq.CNOT(cirq.LineQubit(1), cirq.LineQubit(2)),\n",
       " (cirq.T**-1).on(cirq.LineQubit(2)),\n",
       " cirq.CNOT(cirq.LineQubit(0), cirq.LineQubit(1)),\n",
       " cirq.CNOT(cirq.LineQubit(1), cirq.LineQubit(2)),\n",
       " (cirq.T**-1).on(cirq.LineQubit(2)),\n",
       " cirq.CNOT(cirq.LineQubit(0), cirq.LineQubit(1)),\n",
       " cirq.CNOT(cirq.LineQubit(1), cirq.LineQubit(2))]"
      ]
     },
     "execution_count": 113,
     "metadata": {},
     "output_type": "execute_result"
    }
   ],
   "source": [
    "toffoli = cirq.CCZ(*(cirq.LineQubit.range(3)))\n",
    "cirq.decompose(toffoli, keep = keep_func)"
   ]
  },
  {
   "cell_type": "code",
   "execution_count": 122,
   "metadata": {},
   "outputs": [
    {
     "data": {
      "text/plain": [
       "[cirq.T(cirq.LineQubit(1)).controlled_by(cirq.LineQubit(0)),\n",
       " cirq.T(cirq.LineQubit(2)).controlled_by(cirq.LineQubit(0)),\n",
       " cirq.T(cirq.LineQubit(3)).controlled_by(cirq.LineQubit(0)),\n",
       " cirq.CNOT(cirq.LineQubit(1), cirq.LineQubit(2)).controlled_by(cirq.LineQubit(0)),\n",
       " cirq.CNOT(cirq.LineQubit(2), cirq.LineQubit(3)).controlled_by(cirq.LineQubit(0)),\n",
       " (cirq.T**-1).on(cirq.LineQubit(2)).controlled_by(cirq.LineQubit(0)),\n",
       " cirq.T(cirq.LineQubit(3)).controlled_by(cirq.LineQubit(0)),\n",
       " cirq.CNOT(cirq.LineQubit(1), cirq.LineQubit(2)).controlled_by(cirq.LineQubit(0)),\n",
       " cirq.CNOT(cirq.LineQubit(2), cirq.LineQubit(3)).controlled_by(cirq.LineQubit(0)),\n",
       " (cirq.T**-1).on(cirq.LineQubit(3)).controlled_by(cirq.LineQubit(0)),\n",
       " cirq.CNOT(cirq.LineQubit(1), cirq.LineQubit(2)).controlled_by(cirq.LineQubit(0)),\n",
       " cirq.CNOT(cirq.LineQubit(2), cirq.LineQubit(3)).controlled_by(cirq.LineQubit(0)),\n",
       " (cirq.T**-1).on(cirq.LineQubit(3)).controlled_by(cirq.LineQubit(0)),\n",
       " cirq.CNOT(cirq.LineQubit(1), cirq.LineQubit(2)).controlled_by(cirq.LineQubit(0)),\n",
       " cirq.CNOT(cirq.LineQubit(2), cirq.LineQubit(3)).controlled_by(cirq.LineQubit(0))]"
      ]
     },
     "execution_count": 122,
     "metadata": {},
     "output_type": "execute_result"
    }
   ],
   "source": [
    "g = cirq.ControlledGate(cirq.CCZ).on(*(cirq.LineQubit.range(4)))\n",
    "cirq.decompose(g, keep=keep_func)"
   ]
  },
  {
   "cell_type": "code",
   "execution_count": 123,
   "metadata": {},
   "outputs": [],
   "source": [
    "x = str(repr(toffoli))"
   ]
  },
  {
   "cell_type": "code",
   "execution_count": 124,
   "metadata": {},
   "outputs": [
    {
     "name": "stdout",
     "output_type": "stream",
     "text": [
      "cirq.CZ(cirq.LineQubit(1), cirq.LineQubit(2)).controlled_by(cirq.LineQubit(0))\n"
     ]
    }
   ],
   "source": [
    "print(x)"
   ]
  },
  {
   "cell_type": "code",
   "execution_count": 140,
   "metadata": {},
   "outputs": [
    {
     "name": "stdout",
     "output_type": "stream",
     "text": [
      "[[1.+0.j 0.+0.j 0.+0.j 0.+0.j 0.+0.j 0.+0.j 0.+0.j 0.+0.j]\n",
      " [0.+0.j 1.+0.j 0.+0.j 0.+0.j 0.+0.j 0.+0.j 0.+0.j 0.+0.j]\n",
      " [0.+0.j 0.+0.j 1.+0.j 0.+0.j 0.+0.j 0.+0.j 0.+0.j 0.+0.j]\n",
      " [0.+0.j 0.+0.j 0.+0.j 1.+0.j 0.+0.j 0.+0.j 0.+0.j 0.+0.j]\n",
      " [0.+0.j 0.+0.j 0.+0.j 0.+0.j 1.+0.j 0.+0.j 0.+0.j 0.+0.j]\n",
      " [0.+0.j 0.+0.j 0.+0.j 0.+0.j 0.+0.j 1.+0.j 0.+0.j 0.+0.j]\n",
      " [0.+0.j 0.+0.j 0.+0.j 0.+0.j 0.+0.j 0.+0.j 0.+0.j 1.+0.j]\n",
      " [0.+0.j 0.+0.j 0.+0.j 0.+0.j 0.+0.j 0.+0.j 1.+0.j 0.+0.j]]\n"
     ]
    }
   ],
   "source": [
    "x = cirq.\n",
    "print(cirq.unitary(cirq.CCX))"
   ]
  },
  {
   "cell_type": "code",
   "execution_count": 127,
   "metadata": {},
   "outputs": [
    {
     "ename": "TypeError",
     "evalue": "_decompose_() missing 1 required positional argument: 'qubits'",
     "output_type": "error",
     "traceback": [
      "\u001b[0;31m---------------------------------------------------------------------------\u001b[0m",
      "\u001b[0;31mTypeError\u001b[0m                                 Traceback (most recent call last)",
      "\u001b[0;32m<ipython-input-127-2bbbb3a3daa0>\u001b[0m in \u001b[0;36m<module>\u001b[0;34m\u001b[0m\n\u001b[1;32m      1\u001b[0m \u001b[0mtest\u001b[0m \u001b[0;34m=\u001b[0m \u001b[0mcirq\u001b[0m\u001b[0;34m.\u001b[0m\u001b[0mCCX\u001b[0m\u001b[0;34m\u001b[0m\u001b[0;34m\u001b[0m\u001b[0m\n\u001b[0;32m----> 2\u001b[0;31m \u001b[0mtest\u001b[0m \u001b[0;34m=\u001b[0m \u001b[0mcirq\u001b[0m\u001b[0;34m.\u001b[0m\u001b[0mdecompose\u001b[0m\u001b[0;34m(\u001b[0m\u001b[0mtest\u001b[0m\u001b[0;34m,\u001b[0m \u001b[0mkeep\u001b[0m\u001b[0;34m=\u001b[0m\u001b[0mkeep_func\u001b[0m\u001b[0;34m)\u001b[0m\u001b[0;34m\u001b[0m\u001b[0;34m\u001b[0m\u001b[0m\n\u001b[0m",
      "\u001b[0;32m/usr/local/anaconda3/lib/python3.7/site-packages/cirq/protocols/decompose_protocol.py\u001b[0m in \u001b[0;36mdecompose\u001b[0;34m(val, intercepting_decomposer, fallback_decomposer, keep, on_stuck_raise)\u001b[0m\n\u001b[1;32m    228\u001b[0m \u001b[0;34m\u001b[0m\u001b[0m\n\u001b[1;32m    229\u001b[0m     \u001b[0moutput\u001b[0m \u001b[0;34m=\u001b[0m \u001b[0;34m[\u001b[0m\u001b[0;34m]\u001b[0m\u001b[0;34m\u001b[0m\u001b[0;34m\u001b[0m\u001b[0m\n\u001b[0;32m--> 230\u001b[0;31m     \u001b[0mqueue\u001b[0m\u001b[0;34m:\u001b[0m \u001b[0mList\u001b[0m\u001b[0;34m[\u001b[0m\u001b[0mAny\u001b[0m\u001b[0;34m]\u001b[0m \u001b[0;34m=\u001b[0m \u001b[0;34m[\u001b[0m\u001b[0mval\u001b[0m\u001b[0;34m]\u001b[0m\u001b[0;34m\u001b[0m\u001b[0;34m\u001b[0m\u001b[0m\n\u001b[0m\u001b[1;32m    231\u001b[0m     \u001b[0;32mwhile\u001b[0m \u001b[0mqueue\u001b[0m\u001b[0;34m:\u001b[0m\u001b[0;34m\u001b[0m\u001b[0;34m\u001b[0m\u001b[0m\n\u001b[1;32m    232\u001b[0m         \u001b[0mitem\u001b[0m \u001b[0;34m=\u001b[0m \u001b[0mqueue\u001b[0m\u001b[0;34m.\u001b[0m\u001b[0mpop\u001b[0m\u001b[0;34m(\u001b[0m\u001b[0;36m0\u001b[0m\u001b[0;34m)\u001b[0m\u001b[0;34m\u001b[0m\u001b[0;34m\u001b[0m\u001b[0m\n",
      "\u001b[0;32m/usr/local/anaconda3/lib/python3.7/site-packages/cirq/protocols/decompose_protocol.py\u001b[0m in \u001b[0;36mdecompose_once\u001b[0;34m(val, default, *args, **kwargs)\u001b[0m\n\u001b[1;32m    296\u001b[0m \u001b[0;34m\u001b[0m\u001b[0m\n\u001b[1;32m    297\u001b[0m     \u001b[0mReturns\u001b[0m\u001b[0;34m:\u001b[0m\u001b[0;34m\u001b[0m\u001b[0;34m\u001b[0m\u001b[0m\n\u001b[0;32m--> 298\u001b[0;31m         \u001b[0mThe\u001b[0m \u001b[0mresult\u001b[0m \u001b[0mof\u001b[0m\u001b[0;31m \u001b[0m\u001b[0;31m`\u001b[0m\u001b[0mval\u001b[0m\u001b[0;34m.\u001b[0m\u001b[0m_decompose_\u001b[0m\u001b[0;34m(\u001b[0m\u001b[0;34m*\u001b[0m\u001b[0margs\u001b[0m\u001b[0;34m,\u001b[0m \u001b[0;34m**\u001b[0m\u001b[0mkwargs\u001b[0m\u001b[0;34m)\u001b[0m\u001b[0;31m`\u001b[0m\u001b[0;34m,\u001b[0m \u001b[0;32mif\u001b[0m\u001b[0;31m \u001b[0m\u001b[0;31m`\u001b[0m\u001b[0mval\u001b[0m\u001b[0;31m`\u001b[0m \u001b[0mhas\u001b[0m \u001b[0ma\u001b[0m\u001b[0;34m\u001b[0m\u001b[0;34m\u001b[0m\u001b[0m\n\u001b[0m\u001b[1;32m    299\u001b[0m         \u001b[0;31m`\u001b[0m\u001b[0m_decompose_\u001b[0m\u001b[0;31m`\u001b[0m \u001b[0mmethod\u001b[0m \u001b[0;32mand\u001b[0m \u001b[0mit\u001b[0m \u001b[0mdidn\u001b[0m\u001b[0;31m'\u001b[0m\u001b[0mt\u001b[0m \u001b[0;32mreturn\u001b[0m\u001b[0;31m \u001b[0m\u001b[0;31m`\u001b[0m\u001b[0mNotImplemented\u001b[0m\u001b[0;31m`\u001b[0m \u001b[0;32mor\u001b[0m\u001b[0;31m \u001b[0m\u001b[0;31m`\u001b[0m\u001b[0;32mNone\u001b[0m\u001b[0;31m`\u001b[0m\u001b[0;34m.\u001b[0m\u001b[0;34m\u001b[0m\u001b[0;34m\u001b[0m\u001b[0m\n\u001b[1;32m    300\u001b[0m         \u001b[0mOtherwise\u001b[0m\u001b[0;31m \u001b[0m\u001b[0;31m`\u001b[0m\u001b[0mdefault\u001b[0m\u001b[0;31m`\u001b[0m \u001b[0;32mis\u001b[0m \u001b[0mreturned\u001b[0m\u001b[0;34m,\u001b[0m \u001b[0;32mif\u001b[0m \u001b[0mit\u001b[0m \u001b[0mwas\u001b[0m \u001b[0mspecified\u001b[0m\u001b[0;34m.\u001b[0m \u001b[0mOtherwise\u001b[0m \u001b[0man\u001b[0m \u001b[0merror\u001b[0m\u001b[0;34m\u001b[0m\u001b[0;34m\u001b[0m\u001b[0m\n",
      "\u001b[0;31mTypeError\u001b[0m: _decompose_() missing 1 required positional argument: 'qubits'"
     ]
    }
   ],
   "source": [
    "test = cirq.CCX\n",
    "test = cirq.decompose(test, keep=keep_func)"
   ]
  },
  {
   "cell_type": "code",
   "execution_count": 134,
   "metadata": {},
   "outputs": [
    {
     "name": "stdout",
     "output_type": "stream",
     "text": [
      "0 1 2\n"
     ]
    }
   ],
   "source": [
    "\n",
    "print(*(toffoli.qubits))"
   ]
  },
  {
   "cell_type": "code",
   "execution_count": 136,
   "metadata": {},
   "outputs": [
    {
     "name": "stdout",
     "output_type": "stream",
     "text": [
      "[[0. 0. 0. ... 0. 0. 1.]\n",
      " [1. 0. 0. ... 0. 0. 0.]\n",
      " [0. 1. 0. ... 0. 0. 0.]\n",
      " ...\n",
      " [0. 0. 0. ... 0. 0. 0.]\n",
      " [0. 0. 0. ... 1. 0. 0.]\n",
      " [0. 0. 0. ... 0. 1. 0.]]\n"
     ]
    }
   ],
   "source": [
    "n_qubits = 5\n",
    "input = np.empty((2 ** n_qubits, 2 ** n_qubits))\n",
    "input[1:] = np.eye(2 ** n_qubits)[:-1]\n",
    "input[:1] = np.eye(2 ** n_qubits)[-1:]\n",
    "print(input)"
   ]
  },
  {
   "cell_type": "code",
   "execution_count": 139,
   "metadata": {},
   "outputs": [
    {
     "name": "stdout",
     "output_type": "stream",
     "text": [
      "0: ───@───\n",
      "      │\n",
      "1: ───@───\n",
      "      │\n",
      "2: ───@───\n",
      "TOFFOLI\n"
     ]
    }
   ],
   "source": [
    "print(cirq.Circuit(toffoli))\n",
    "print(cirq.CCX)"
   ]
  },
  {
   "cell_type": "code",
   "execution_count": 141,
   "metadata": {},
   "outputs": [],
   "source": [
    "x = cirq.ControlledGate(cirq.ControlledGate(cirq.CCX)).on(*cirq.LineQubit.range(5))"
   ]
  },
  {
   "cell_type": "code",
   "execution_count": 142,
   "metadata": {},
   "outputs": [
    {
     "name": "stdout",
     "output_type": "stream",
     "text": [
      "0: ───@───\n",
      "      │\n",
      "1: ───@───\n",
      "      │\n",
      "2: ───@───\n",
      "      │\n",
      "3: ───@───\n",
      "      │\n",
      "4: ───X───\n"
     ]
    }
   ],
   "source": [
    "print(cirq.Circuit(x))"
   ]
  },
  {
   "cell_type": "code",
   "execution_count": 148,
   "metadata": {},
   "outputs": [],
   "source": [
    "def increment_circuit(qubits):\n",
    "    n_qubits = len(qubits)\n",
    "    for i in range(n_qubits):\n",
    "        gate = cirq.X\n",
    "        for j in range(n_qubits - i - 1):\n",
    "            gate = cirq.ControlledGate(gate)\n",
    "        op = gate.on(*qubits[:n_qubits - i])\n",
    "        yield op            \n",
    "            "
   ]
  },
  {
   "cell_type": "code",
   "execution_count": 151,
   "metadata": {},
   "outputs": [
    {
     "name": "stdout",
     "output_type": "stream",
     "text": [
      "(3, 3): ───@───@───@───@───@───@───@───@───X───\n",
      "           │   │   │   │   │   │   │   │\n",
      "(3, 4): ───@───@───@───@───@───@───@───X───────\n",
      "           │   │   │   │   │   │   │\n",
      "(3, 5): ───@───@───@───@───@───@───X───────────\n",
      "           │   │   │   │   │   │\n",
      "(4, 3): ───@───@───@───@───@───X───────────────\n",
      "           │   │   │   │   │\n",
      "(4, 4): ───@───@───@───@───X───────────────────\n",
      "           │   │   │   │\n",
      "(4, 5): ───@───@───@───X───────────────────────\n",
      "           │   │   │\n",
      "(5, 3): ───@───@───X───────────────────────────\n",
      "           │   │\n",
      "(5, 4): ───@───X───────────────────────────────\n",
      "           │\n",
      "(5, 5): ───X───────────────────────────────────\n"
     ]
    }
   ],
   "source": [
    "qubits = cirq.GridQubit.square(int(np.sqrt(9)), 3, 3)\n",
    "# qubits = cirq.LineQubit.range(5)\n",
    "c = cirq.Circuit(increment_circuit(qubits))\n",
    "print(c)"
   ]
  },
  {
   "cell_type": "code",
   "execution_count": 156,
   "metadata": {},
   "outputs": [
    {
     "ename": "ValueError",
     "evalue": "Operation doesn't satisfy the given `keep` but can't be decomposed: cirq.ControlledOperation(sub_operation=cirq.X(cirq.GridQubit(5, 5)),control_values=((1,), (1,), (1,), (1,), (1,), (1,), (1,), (1,)),controls=(cirq.GridQubit(3, 3), cirq.GridQubit(3, 4), cirq.GridQubit(3, 5), cirq.GridQubit(4, 3), cirq.GridQubit(4, 4), cirq.GridQubit(4, 5), cirq.GridQubit(5, 3), cirq.GridQubit(5, 4)))",
     "output_type": "error",
     "traceback": [
      "\u001b[0;31m---------------------------------------------------------------------------\u001b[0m",
      "\u001b[0;31mValueError\u001b[0m                                Traceback (most recent call last)",
      "\u001b[0;32m<ipython-input-156-93610628ac9a>\u001b[0m in \u001b[0;36m<module>\u001b[0;34m\u001b[0m\n\u001b[0;32m----> 1\u001b[0;31m \u001b[0mc\u001b[0m \u001b[0;34m=\u001b[0m \u001b[0mcirq\u001b[0m\u001b[0;34m.\u001b[0m\u001b[0mdecompose\u001b[0m\u001b[0;34m(\u001b[0m\u001b[0mc\u001b[0m\u001b[0;34m,\u001b[0m \u001b[0mkeep\u001b[0m\u001b[0;34m=\u001b[0m\u001b[0mkeep_func\u001b[0m\u001b[0;34m)\u001b[0m\u001b[0;34m\u001b[0m\u001b[0;34m\u001b[0m\u001b[0m\n\u001b[0m",
      "\u001b[0;32m/usr/local/anaconda3/lib/python3.7/site-packages/cirq/protocols/decompose_protocol.py\u001b[0m in \u001b[0;36mdecompose\u001b[0;34m(val, intercepting_decomposer, fallback_decomposer, keep, on_stuck_raise)\u001b[0m\n\u001b[1;32m    247\u001b[0m             \u001b[0;32mcontinue\u001b[0m\u001b[0;34m\u001b[0m\u001b[0;34m\u001b[0m\u001b[0m\n\u001b[1;32m    248\u001b[0m \u001b[0;34m\u001b[0m\u001b[0m\n\u001b[0;32m--> 249\u001b[0;31m         \u001b[0;32mif\u001b[0m \u001b[0;32mnot\u001b[0m \u001b[0misinstance\u001b[0m\u001b[0;34m(\u001b[0m\u001b[0mitem\u001b[0m\u001b[0;34m,\u001b[0m \u001b[0mops\u001b[0m\u001b[0;34m.\u001b[0m\u001b[0mOperation\u001b[0m\u001b[0;34m)\u001b[0m \u001b[0;32mand\u001b[0m \u001b[0misinstance\u001b[0m\u001b[0;34m(\u001b[0m\u001b[0mitem\u001b[0m\u001b[0;34m,\u001b[0m \u001b[0mIterable\u001b[0m\u001b[0;34m)\u001b[0m\u001b[0;34m:\u001b[0m\u001b[0;34m\u001b[0m\u001b[0;34m\u001b[0m\u001b[0m\n\u001b[0m\u001b[1;32m    250\u001b[0m             \u001b[0mqueue\u001b[0m\u001b[0;34m[\u001b[0m\u001b[0;34m:\u001b[0m\u001b[0;36m0\u001b[0m\u001b[0;34m]\u001b[0m \u001b[0;34m=\u001b[0m \u001b[0mops\u001b[0m\u001b[0;34m.\u001b[0m\u001b[0mflatten_to_ops\u001b[0m\u001b[0;34m(\u001b[0m\u001b[0mitem\u001b[0m\u001b[0;34m)\u001b[0m\u001b[0;34m\u001b[0m\u001b[0;34m\u001b[0m\u001b[0m\n\u001b[1;32m    251\u001b[0m             \u001b[0;32mcontinue\u001b[0m\u001b[0;34m\u001b[0m\u001b[0;34m\u001b[0m\u001b[0m\n",
      "\u001b[0;31mValueError\u001b[0m: Operation doesn't satisfy the given `keep` but can't be decomposed: cirq.ControlledOperation(sub_operation=cirq.X(cirq.GridQubit(5, 5)),control_values=((1,), (1,), (1,), (1,), (1,), (1,), (1,), (1,)),controls=(cirq.GridQubit(3, 3), cirq.GridQubit(3, 4), cirq.GridQubit(3, 5), cirq.GridQubit(4, 3), cirq.GridQubit(4, 4), cirq.GridQubit(4, 5), cirq.GridQubit(5, 3), cirq.GridQubit(5, 4)))"
     ]
    }
   ],
   "source": [
    "c = cirq.decompose(c, keep=keep_func)"
   ]
  },
  {
   "cell_type": "code",
   "execution_count": 153,
   "metadata": {},
   "outputs": [
    {
     "name": "stdout",
     "output_type": "stream",
     "text": [
      "[cirq.ControlledOperation(sub_operation=cirq.X(cirq.GridQubit(5, 5)),control_values=((1,), (1,), (1,), (1,), (1,), (1,), (1,), (1,)),controls=(cirq.GridQubit(3, 3), cirq.GridQubit(3, 4), cirq.GridQubit(3, 5), cirq.GridQubit(4, 3), cirq.GridQubit(4, 4), cirq.GridQubit(4, 5), cirq.GridQubit(5, 3), cirq.GridQubit(5, 4))), cirq.ControlledOperation(sub_operation=cirq.X(cirq.GridQubit(5, 4)),control_values=((1,), (1,), (1,), (1,), (1,), (1,), (1,)),controls=(cirq.GridQubit(3, 3), cirq.GridQubit(3, 4), cirq.GridQubit(3, 5), cirq.GridQubit(4, 3), cirq.GridQubit(4, 4), cirq.GridQubit(4, 5), cirq.GridQubit(5, 3))), cirq.ControlledOperation(sub_operation=cirq.X(cirq.GridQubit(5, 3)),control_values=((1,), (1,), (1,), (1,), (1,), (1,)),controls=(cirq.GridQubit(3, 3), cirq.GridQubit(3, 4), cirq.GridQubit(3, 5), cirq.GridQubit(4, 3), cirq.GridQubit(4, 4), cirq.GridQubit(4, 5))), cirq.ControlledOperation(sub_operation=cirq.X(cirq.GridQubit(4, 5)),control_values=((1,), (1,), (1,), (1,), (1,)),controls=(cirq.GridQubit(3, 3), cirq.GridQubit(3, 4), cirq.GridQubit(3, 5), cirq.GridQubit(4, 3), cirq.GridQubit(4, 4))), cirq.ControlledOperation(sub_operation=cirq.X(cirq.GridQubit(4, 4)),control_values=((1,), (1,), (1,), (1,)),controls=(cirq.GridQubit(3, 3), cirq.GridQubit(3, 4), cirq.GridQubit(3, 5), cirq.GridQubit(4, 3))), cirq.ControlledOperation(sub_operation=cirq.X(cirq.GridQubit(4, 3)),control_values=((1,), (1,), (1,)),controls=(cirq.GridQubit(3, 3), cirq.GridQubit(3, 4), cirq.GridQubit(3, 5))), cirq.ControlledOperation(sub_operation=cirq.X(cirq.GridQubit(3, 5)),control_values=((1,), (1,)),controls=(cirq.GridQubit(3, 3), cirq.GridQubit(3, 4))), cirq.X(cirq.GridQubit(3, 4)).controlled_by(cirq.GridQubit(3, 3)), cirq.X(cirq.GridQubit(3, 3))]\n"
     ]
    }
   ],
   "source": [
    "print(c)"
   ]
  },
  {
   "cell_type": "code",
   "execution_count": 157,
   "metadata": {},
   "outputs": [],
   "source": [
    "g = cirq.CCX.on(*cirq.LineQubit.range(3))"
   ]
  },
  {
   "cell_type": "code",
   "execution_count": 158,
   "metadata": {},
   "outputs": [
    {
     "name": "stdout",
     "output_type": "stream",
     "text": [
      "TOFFOLI(0, 1, 2)\n"
     ]
    }
   ],
   "source": [
    "print(g)"
   ]
  },
  {
   "cell_type": "code",
   "execution_count": 159,
   "metadata": {},
   "outputs": [
    {
     "name": "stdout",
     "output_type": "stream",
     "text": [
      "[(cirq.Y**0.5).on(cirq.LineQubit(2)), cirq.XPowGate(exponent=1.0, global_shift=-0.25).on(cirq.LineQubit(2)), cirq.T(cirq.LineQubit(0)), cirq.T(cirq.LineQubit(1)), cirq.T(cirq.LineQubit(2)), (cirq.Y**-0.5).on(cirq.LineQubit(1)), cirq.CZ(cirq.LineQubit(0), cirq.LineQubit(1)), (cirq.Y**0.5).on(cirq.LineQubit(1)), (cirq.Y**-0.5).on(cirq.LineQubit(2)), cirq.CZ(cirq.LineQubit(1), cirq.LineQubit(2)), (cirq.Y**0.5).on(cirq.LineQubit(2)), (cirq.T**-1).on(cirq.LineQubit(1)), cirq.T(cirq.LineQubit(2)), (cirq.Y**-0.5).on(cirq.LineQubit(1)), cirq.CZ(cirq.LineQubit(0), cirq.LineQubit(1)), (cirq.Y**0.5).on(cirq.LineQubit(1)), (cirq.Y**-0.5).on(cirq.LineQubit(2)), cirq.CZ(cirq.LineQubit(1), cirq.LineQubit(2)), (cirq.Y**0.5).on(cirq.LineQubit(2)), (cirq.T**-1).on(cirq.LineQubit(2)), (cirq.Y**-0.5).on(cirq.LineQubit(1)), cirq.CZ(cirq.LineQubit(0), cirq.LineQubit(1)), (cirq.Y**0.5).on(cirq.LineQubit(1)), (cirq.Y**-0.5).on(cirq.LineQubit(2)), cirq.CZ(cirq.LineQubit(1), cirq.LineQubit(2)), (cirq.Y**0.5).on(cirq.LineQubit(2)), (cirq.T**-1).on(cirq.LineQubit(2)), (cirq.Y**-0.5).on(cirq.LineQubit(1)), cirq.CZ(cirq.LineQubit(0), cirq.LineQubit(1)), (cirq.Y**0.5).on(cirq.LineQubit(1)), (cirq.Y**-0.5).on(cirq.LineQubit(2)), cirq.CZ(cirq.LineQubit(1), cirq.LineQubit(2)), (cirq.Y**0.5).on(cirq.LineQubit(2)), (cirq.Y**0.5).on(cirq.LineQubit(2)), cirq.XPowGate(exponent=1.0, global_shift=-0.25).on(cirq.LineQubit(2))]\n"
     ]
    }
   ],
   "source": [
    "print(cirq.decompose(g))"
   ]
  },
  {
   "cell_type": "code",
   "execution_count": 165,
   "metadata": {},
   "outputs": [
    {
     "ename": "ValueError",
     "evalue": "Operation doesn't satisfy the given `keep` but can't be decomposed: cirq.ControlledOperation(sub_operation=(cirq.Y**0.5).on(cirq.LineQubit(2)),control_values=((1,), (1,)),controls=(cirq.LineQubit(0), cirq.LineQubit(1)))",
     "output_type": "error",
     "traceback": [
      "\u001b[0;31m---------------------------------------------------------------------------\u001b[0m",
      "\u001b[0;31mValueError\u001b[0m                                Traceback (most recent call last)",
      "\u001b[0;32m<ipython-input-165-ca1e44bbdd4a>\u001b[0m in \u001b[0;36m<module>\u001b[0;34m\u001b[0m\n\u001b[1;32m      1\u001b[0m \u001b[0mg\u001b[0m \u001b[0;34m=\u001b[0m \u001b[0mcirq\u001b[0m\u001b[0;34m.\u001b[0m\u001b[0mControlledGate\u001b[0m\u001b[0;34m(\u001b[0m\u001b[0mcirq\u001b[0m\u001b[0;34m.\u001b[0m\u001b[0mControlledGate\u001b[0m\u001b[0;34m(\u001b[0m\u001b[0mcirq\u001b[0m\u001b[0;34m.\u001b[0m\u001b[0mY\u001b[0m \u001b[0;34m**\u001b[0m \u001b[0;36m0.5\u001b[0m\u001b[0;34m)\u001b[0m\u001b[0;34m)\u001b[0m\u001b[0;34m.\u001b[0m\u001b[0mon\u001b[0m\u001b[0;34m(\u001b[0m\u001b[0;34m*\u001b[0m\u001b[0mcirq\u001b[0m\u001b[0;34m.\u001b[0m\u001b[0mLineQubit\u001b[0m\u001b[0;34m.\u001b[0m\u001b[0mrange\u001b[0m\u001b[0;34m(\u001b[0m\u001b[0;36m3\u001b[0m\u001b[0;34m)\u001b[0m\u001b[0;34m)\u001b[0m\u001b[0;34m\u001b[0m\u001b[0;34m\u001b[0m\u001b[0m\n\u001b[0;32m----> 2\u001b[0;31m \u001b[0mcirq\u001b[0m\u001b[0;34m.\u001b[0m\u001b[0mdecompose\u001b[0m\u001b[0;34m(\u001b[0m\u001b[0mg\u001b[0m\u001b[0;34m,\u001b[0m \u001b[0mkeep\u001b[0m\u001b[0;34m=\u001b[0m\u001b[0mkeep_func\u001b[0m\u001b[0;34m)\u001b[0m\u001b[0;34m\u001b[0m\u001b[0;34m\u001b[0m\u001b[0m\n\u001b[0m",
      "\u001b[0;32m/usr/local/anaconda3/lib/python3.7/site-packages/cirq/protocols/decompose_protocol.py\u001b[0m in \u001b[0;36mdecompose\u001b[0;34m(val, intercepting_decomposer, fallback_decomposer, keep, on_stuck_raise)\u001b[0m\n\u001b[1;32m    247\u001b[0m             \u001b[0;32mcontinue\u001b[0m\u001b[0;34m\u001b[0m\u001b[0;34m\u001b[0m\u001b[0m\n\u001b[1;32m    248\u001b[0m \u001b[0;34m\u001b[0m\u001b[0m\n\u001b[0;32m--> 249\u001b[0;31m         \u001b[0;32mif\u001b[0m \u001b[0;32mnot\u001b[0m \u001b[0misinstance\u001b[0m\u001b[0;34m(\u001b[0m\u001b[0mitem\u001b[0m\u001b[0;34m,\u001b[0m \u001b[0mops\u001b[0m\u001b[0;34m.\u001b[0m\u001b[0mOperation\u001b[0m\u001b[0;34m)\u001b[0m \u001b[0;32mand\u001b[0m \u001b[0misinstance\u001b[0m\u001b[0;34m(\u001b[0m\u001b[0mitem\u001b[0m\u001b[0;34m,\u001b[0m \u001b[0mIterable\u001b[0m\u001b[0;34m)\u001b[0m\u001b[0;34m:\u001b[0m\u001b[0;34m\u001b[0m\u001b[0;34m\u001b[0m\u001b[0m\n\u001b[0m\u001b[1;32m    250\u001b[0m             \u001b[0mqueue\u001b[0m\u001b[0;34m[\u001b[0m\u001b[0;34m:\u001b[0m\u001b[0;36m0\u001b[0m\u001b[0;34m]\u001b[0m \u001b[0;34m=\u001b[0m \u001b[0mops\u001b[0m\u001b[0;34m.\u001b[0m\u001b[0mflatten_to_ops\u001b[0m\u001b[0;34m(\u001b[0m\u001b[0mitem\u001b[0m\u001b[0;34m)\u001b[0m\u001b[0;34m\u001b[0m\u001b[0;34m\u001b[0m\u001b[0m\n\u001b[1;32m    251\u001b[0m             \u001b[0;32mcontinue\u001b[0m\u001b[0;34m\u001b[0m\u001b[0;34m\u001b[0m\u001b[0m\n",
      "\u001b[0;31mValueError\u001b[0m: Operation doesn't satisfy the given `keep` but can't be decomposed: cirq.ControlledOperation(sub_operation=(cirq.Y**0.5).on(cirq.LineQubit(2)),control_values=((1,), (1,)),controls=(cirq.LineQubit(0), cirq.LineQubit(1)))"
     ]
    }
   ],
   "source": [
    "g = cirq.ControlledGate(cirq.ControlledGate(cirq.Y ** 0.5)).on(*cirq.LineQubit.range(3))\n",
    "cirq.decompose(g, keep=keep_func)"
   ]
  },
  {
   "cell_type": "code",
   "execution_count": 167,
   "metadata": {},
   "outputs": [
    {
     "ename": "AttributeError",
     "evalue": "module 'cirq' has no attribute 'CT'",
     "output_type": "error",
     "traceback": [
      "\u001b[0;31m---------------------------------------------------------------------------\u001b[0m",
      "\u001b[0;31mAttributeError\u001b[0m                            Traceback (most recent call last)",
      "\u001b[0;32m<ipython-input-167-c950e630aae1>\u001b[0m in \u001b[0;36m<module>\u001b[0;34m\u001b[0m\n\u001b[0;32m----> 1\u001b[0;31m \u001b[0mg\u001b[0m \u001b[0;34m=\u001b[0m \u001b[0mcirq\u001b[0m\u001b[0;34m.\u001b[0m\u001b[0mCT\u001b[0m\u001b[0;34m\u001b[0m\u001b[0;34m\u001b[0m\u001b[0m\n\u001b[0m",
      "\u001b[0;31mAttributeError\u001b[0m: module 'cirq' has no attribute 'CT'"
     ]
    }
   ],
   "source": [
    "g = cirq.CT"
   ]
  },
  {
   "cell_type": "code",
   "execution_count": 438,
   "metadata": {},
   "outputs": [],
   "source": [
    "def CNOT_toffoli_decomp(bitset, garbage, t, d):\n",
    "    target = t\n",
    "    gates = []\n",
    "    for i in range(1, len(bitset) - 1):\n",
    "        gates.append(cirq.CCX(garbage[-i - d], bitset[-i], target))\n",
    "        target = garbage[-i - d]\n",
    "    gates.append(cirq.CCX(bitset[0], bitset[1], target))\n",
    "    for gate in gates:\n",
    "        yield gate\n",
    "    gates.reverse()\n",
    "    for gate in gates[1:]:\n",
    "        yield gate\n",
    "    gates.reverse()\n",
    "    for gate in gates[1:]:\n",
    "        yield gate\n",
    "    gates.reverse()\n",
    "    for gate in gates[1:-1]:\n",
    "        yield gate\n",
    "#     yield cirq.CCX(bitset[0], bitset[1], target)\n",
    "#     if d == 1:\n",
    "#         for gate in gates[:-1]:\n",
    "#             yield gate\n",
    "#     else:\n",
    "#         for gate in gates:\n",
    "#             yield gate\n",
    "    \n",
    "    \n",
    "def decompose_large_CNOT(control_qubits, target, ancilla):\n",
    "    if len(control_qubits) == 0:\n",
    "        return cirq.X(target)\n",
    "    \n",
    "    if len(control_qubits) == 1:\n",
    "        return cirq.CX(control_qubits[0], target)\n",
    "    \n",
    "    if len(control_qubits) == 2:\n",
    "        return cirq.CCX(control_qubits[0], control_qubits[1], target)\n",
    "    \n",
    "#     if len(control_qubits) == 4:\n",
    "#         return cirq.Circuit([\n",
    "#          cirq.CCX(control_qubits[0], control_qubits[2], ancilla),\n",
    "#              cirq.CCX(control_qubits[2], ancilla, target),\n",
    "#              cirq.CCX(control_qubits[1], control_qubits[3], control_qubits[2]),\n",
    "#              cirq.CCX(control_qubits[2], ancilla, target),\n",
    "#              cirq.CCX(control_qubits[1], control_qubits[3], control_qubits[2]),\n",
    "#              cirq.CCX(control_qubits[0], control_qubits[2], ancilla),\n",
    "#              cirq.CCX(control_qubits[2], ancilla, target),\n",
    "#              cirq.CCX(control_qubits[1], control_qubits[3], control_qubits[2]),\n",
    "#              cirq.CCX(control_qubits[2], ancilla, target),\n",
    "#              cirq.CCX(control_qubits[1], control_qubits[3], control_qubits[2]),])\n",
    "    \n",
    "    bitset1 = [tq for i, tq in enumerate(control_qubits) if i%2 == 0]\n",
    "    bitset2 = [tq for i, tq in enumerate(control_qubits) if i%2 == 1]\n",
    "    bitset2.append(ancilla)\n",
    "    gate1 = CNOT_toffoli_decomp(bitset1, bitset2, ancilla, 1)\n",
    "    gate2 = CNOT_toffoli_decomp(bitset2, bitset1, target, 0)\n",
    "    gate3 = CNOT_toffoli_decomp(bitset1, bitset2, ancilla, 1)\n",
    "    gate4 = CNOT_toffoli_decomp(bitset2, bitset1, target, 0)\n",
    "    return cirq.Circuit([gate1, gate2, gate3, gate4])\n",
    "\n",
    "\n",
    "def increment(qubits):\n",
    "    print(qubits)\n",
    "    n_qubits = len(qubits)\n",
    "    ancilla = cirq.LineQubit(5)\n",
    "    c = cirq.Circuit()\n",
    "    for i in range(n_qubits):\n",
    "        print(\"hi\")\n",
    "        control_qubits = qubits[i + 1:]\n",
    "        target = qubits[i]\n",
    "        c.append(decompose_large_CNOT(control_qubits, target, ancilla))\n",
    "    if n_qubits < 3:\n",
    "        return c, []\n",
    "    return c, [ancilla]"
   ]
  },
  {
   "cell_type": "code",
   "execution_count": 440,
   "metadata": {
    "scrolled": true
   },
   "outputs": [
    {
     "name": "stdout",
     "output_type": "stream",
     "text": [
      "0: ───────@───────@───────────────────@───────@───────────────\n",
      "          │       │                   │       │\n",
      "1: ───────┼───────┼───@───────@───────┼───────┼───@───────@───\n",
      "          │       │   │       │       │       │   │       │\n",
      "2: ───────@───────@───┼───────┼───────@───────@───┼───────┼───\n",
      "          │       │   │       │       │       │   │       │\n",
      "3: ───@───X───@───X───@───────@───@───X───@───X───@───────@───\n",
      "      │       │       │       │   │       │       │       │\n",
      "4: ───@───────@───@───X───@───X───@───────@───@───X───@───X───\n",
      "      │       │   │       │       │       │   │       │\n",
      "5: ───┼───────┼───X───────X───────┼───────┼───X───────X───────\n",
      "      │       │   │       │       │       │   │       │\n",
      "6: ───X───────X───@───────@───────X───────X───@───────@───────\n"
     ]
    }
   ],
   "source": [
    "qs = cirq.LineQubit.range(7)\n",
    "ancilla = qs[-1]\n",
    "target = qs[-2]\n",
    "# target_qubits = qs[:-2]\n",
    "c = decompose_large_CNOT(qs[:-2], target, ancilla)\n",
    "# print(cirq.unitary(c).shape)\n",
    "# print(cirq.unitary(c))\n",
    "# with open(\"unitary.txt\", \"w\") as f:\n",
    "#     np.savetxt(f, cirq.unitary(c), fmt='%1.1f')\n",
    "print(c)\n",
    "    \n"
   ]
  },
  {
   "cell_type": "code",
   "execution_count": 411,
   "metadata": {},
   "outputs": [
    {
     "name": "stdout",
     "output_type": "stream",
     "text": [
      "True\n"
     ]
    }
   ],
   "source": [
    "def increment_unitary(n_qubits):\n",
    "    input = np.empty((2 ** n_qubits, 2 ** n_qubits))\n",
    "    input[1:] = np.eye(2 ** n_qubits)[:-1]\n",
    "    input[:1] = np.eye(2 ** n_qubits)[-1:]\n",
    "    return input\n",
    "\n",
    "iu = increment_unitary(4)\n",
    "print(np.isclose(cirq.kron(iu, np.eye(2)), cirq.unitary(c)).all())"
   ]
  },
  {
   "cell_type": "code",
   "execution_count": 319,
   "metadata": {},
   "outputs": [
    {
     "name": "stdout",
     "output_type": "stream",
     "text": [
      "[[0. 0. 0. ... 0. 0. 1.]\n",
      " [1. 0. 0. ... 0. 0. 0.]\n",
      " [0. 1. 0. ... 0. 0. 0.]\n",
      " ...\n",
      " [0. 0. 0. ... 0. 0. 0.]\n",
      " [0. 0. 0. ... 1. 0. 0.]\n",
      " [0. 0. 0. ... 0. 1. 0.]]\n"
     ]
    }
   ],
   "source": [
    "print(iu)"
   ]
  },
  {
   "cell_type": "code",
   "execution_count": 425,
   "metadata": {},
   "outputs": [
    {
     "name": "stdout",
     "output_type": "stream",
     "text": [
      "[[1.+0.j 0.+0.j 0.+0.j ... 0.+0.j 0.+0.j 0.+0.j]\n",
      " [0.+0.j 1.+0.j 0.+0.j ... 0.+0.j 0.+0.j 0.+0.j]\n",
      " [0.+0.j 0.+0.j 1.+0.j ... 0.+0.j 0.+0.j 0.+0.j]\n",
      " ...\n",
      " [0.+0.j 0.+0.j 0.+0.j ... 1.+0.j 0.+0.j 0.+0.j]\n",
      " [0.+0.j 0.+0.j 0.+0.j ... 0.+0.j 0.+0.j 0.+0.j]\n",
      " [0.+0.j 0.+0.j 0.+0.j ... 0.+0.j 0.+0.j 1.+0.j]]\n",
      "0: ───@───────────────────@───\n",
      "      │                   │\n",
      "1: ───┼───────@───────@───┼───\n",
      "      │       │       │   │\n",
      "2: ───@───@───X───@───X───@───\n",
      "      │   │   │   │   │   │\n",
      "3: ───┼───┼───@───┼───@───┼───\n",
      "      │   │       │       │\n",
      "4: ───┼───X───────X───────┼───\n",
      "      │   │       │       │\n",
      "5: ───X───@───────@───────X───\n"
     ]
    }
   ],
   "source": [
    "n = 5\n",
    "qs = cirq.LineQubit.range(n)\n",
    "control_qubits = qs[:-1]\n",
    "target = qs[-1]\n",
    "ancilla = cirq.LineQubit(n)\n",
    "\n",
    "c = decompose_large_CNOT(control_qubits, target, ancilla)\n",
    "print(cirq.unitary(c))\n",
    "print(c)"
   ]
  },
  {
   "cell_type": "code",
   "execution_count": 403,
   "metadata": {},
   "outputs": [
    {
     "name": "stdout",
     "output_type": "stream",
     "text": [
      "0,1,2,3,4=000000000000000000000000000000, 111111111111111111111111111111, 111111111111111111111111111111, 111111111111111111111111111111, 000000000000000000000000000000\n",
      "5=000000000000000000000000000000\n"
     ]
    }
   ],
   "source": [
    "simulator = cirq.Simulator()\n",
    "initializations = [cirq.X(qs[1]), cirq.X(qs[2]), cirq.X(qs[3])]\n",
    "cm = cirq.Circuit([*initializations, c, cirq.measure(*qs), cirq.measure(ancilla)])\n",
    "result = simulator.run(cm, repetitions=30)\n",
    "print(result)"
   ]
  },
  {
   "cell_type": "code",
   "execution_count": 413,
   "metadata": {},
   "outputs": [
    {
     "name": "stdout",
     "output_type": "stream",
     "text": [
      "[[1.+0.j 0.+0.j 0.+0.j ... 0.+0.j 0.+0.j 0.+0.j]\n",
      " [0.+0.j 1.+0.j 0.+0.j ... 0.+0.j 0.+0.j 0.+0.j]\n",
      " [0.+0.j 0.+0.j 1.+0.j ... 0.+0.j 0.+0.j 0.+0.j]\n",
      " ...\n",
      " [0.+0.j 0.+0.j 0.+0.j ... 1.+0.j 0.+0.j 0.+0.j]\n",
      " [0.+0.j 0.+0.j 0.+0.j ... 0.+0.j 0.+0.j 0.+0.j]\n",
      " [0.+0.j 0.+0.j 0.+0.j ... 0.+0.j 0.+0.j 1.+0.j]]\n"
     ]
    }
   ],
   "source": [
    "print(cirq.unitary(c))"
   ]
  },
  {
   "cell_type": "code",
   "execution_count": 426,
   "metadata": {},
   "outputs": [
    {
     "name": "stdout",
     "output_type": "stream",
     "text": [
      "False\n"
     ]
    }
   ],
   "source": [
    "iu = cirq.unitary(cirq.ControlledGate(cirq.ControlledGate(cirq.CCX)).on(*cirq.LineQubit.range(5)))\n",
    "ku = cirq.kron(np.eye(2), iu)\n",
    "print(np.isclose(ku, cirq.unitary(c)).all())"
   ]
  },
  {
   "cell_type": "code",
   "execution_count": 424,
   "metadata": {},
   "outputs": [
    {
     "name": "stdout",
     "output_type": "stream",
     "text": [
      "0: ───@───\n",
      "      │\n",
      "1: ───@───\n",
      "      │\n",
      "2: ───@───\n",
      "      │\n",
      "3: ───@───\n",
      "      │\n",
      "4: ───X───\n"
     ]
    }
   ],
   "source": [
    "c = cirq.Circuit(cirq.ControlledGate(cirq.ControlledGate(cirq.CCX)).on(*cirq.LineQubit.range(5)))\n",
    "print(c)"
   ]
  },
  {
   "cell_type": "code",
   "execution_count": 443,
   "metadata": {},
   "outputs": [
    {
     "data": {
      "text/plain": [
       "35"
      ]
     },
     "execution_count": 443,
     "metadata": {},
     "output_type": "execute_result"
    }
   ],
   "source": [
    "len(cirq.decompose(cirq.CCX.on(*cirq.LineQubit.range(3))))"
   ]
  },
  {
   "cell_type": "code",
   "execution_count": 445,
   "metadata": {},
   "outputs": [
    {
     "data": {
      "text/plain": [
       "True"
      ]
     },
     "execution_count": 445,
     "metadata": {},
     "output_type": "execute_result"
    }
   ],
   "source": [
    "np.isclose(np.ones(len(cirq.unitary(c).diagonal())), 1).all()"
   ]
  },
  {
   "cell_type": "code",
   "execution_count": null,
   "metadata": {},
   "outputs": [],
   "source": [
    "if np.isclose(matrix.diagonal(), np.ones(len(matrix.diagonal()))).all()\n",
    "            return cirq.IdentityGate(num_qubits = len(matrix.diagonal())).on(*target_qubits), []"
   ]
  },
  {
   "cell_type": "code",
   "execution_count": 449,
   "metadata": {},
   "outputs": [
    {
     "name": "stdout",
     "output_type": "stream",
     "text": [
      "0: ───@───\n",
      "      │\n",
      "1: ───@───\n",
      "      │\n",
      "2: ───@───\n"
     ]
    }
   ],
   "source": [
    "print(cirq.Circuit(cirq.CCZ.on(*cirq.LineQubit.range(3))))"
   ]
  },
  {
   "cell_type": "code",
   "execution_count": 450,
   "metadata": {},
   "outputs": [
    {
     "ename": "SyntaxError",
     "evalue": "'yield' outside function (<ipython-input-450-a02674774006>, line 1)",
     "output_type": "error",
     "traceback": [
      "\u001b[0;36m  File \u001b[0;32m\"<ipython-input-450-a02674774006>\"\u001b[0;36m, line \u001b[0;32m1\u001b[0m\n\u001b[0;31m    yield cirq.ControlledGate(Y ** -0.5).on(qs[0], qs[2])\u001b[0m\n\u001b[0m                                                         ^\u001b[0m\n\u001b[0;31mSyntaxError\u001b[0m\u001b[0;31m:\u001b[0m 'yield' outside function\n"
     ]
    }
   ],
   "source": [
    "yield cirq.ControlledGate(Y ** -0.5).on(qs[0], qs[2])\n",
    "yield cirq.CCZ.on(qs[0], qs[1], qs[2])\n",
    "yield cirq.ControlledGate(Y ** 0.)\n",
    "yield cirq.ControlledGate(Y ** 0.5).on(qs[0], qs[1])\n",
    "yield cirq.CX.on(qs[0], qs[1])\n",
    "yield cirq.ControlledGate(Y ** -0.5).on(qs[0], qs[1])\n",
    "yield cirq.CCZ(qs[0], qs[1], qs[2])\n",
    "yield cirq.ControlledGate(Y**0.5).on(qs[0], qs[1])\n",
    "yield cirq.ControlledGate(T).on(qs[0], qs[1])\n",
    "yield cirq.ControlledGate(Y**-0.5).on(qs[0], qs[1])\n",
    "yield cirq.CCZ(qs[0], qs[1], qs[2])\n",
    "yield cirq.ControlledGate(Y**0.5).on(qs[0], qs[1])\n",
    "yield cirq.ControlledGate(T ** -1).on(qs[0], qs[1])\n",
    "yield cirq.ControlledGate(Y**0.5).on(qs[0], qs[1])\n",
    "yield cirq.CX.on(qs[0], qs[1])\n",
    "yield cirq.ControlledGate(Y ** -0.5).on(qs[0], qs[2])\n",
    "yield cirq.CCZ.on(qs[0], qs[1], qs[2])\n",
    "yield cirq.ControlledGate(Y ** 0.5).on(qs[0], qs[2])"
   ]
  },
  {
   "cell_type": "code",
   "execution_count": 466,
   "metadata": {},
   "outputs": [
    {
     "name": "stdout",
     "output_type": "stream",
     "text": [
      "[(cirq.Y**-0.5).on(cirq.LineQubit(1)), cirq.CZ(cirq.LineQubit(0), cirq.LineQubit(1)), (cirq.Y**0.5).on(cirq.LineQubit(1)), (cirq.Y**0.5).on(cirq.LineQubit(0)), cirq.XPowGate(exponent=1.0, global_shift=-0.25).on(cirq.LineQubit(0)), (cirq.Y**-0.5).on(cirq.LineQubit(0)), cirq.CZ(cirq.LineQubit(1), cirq.LineQubit(0)), (cirq.Y**0.5).on(cirq.LineQubit(0)), cirq.T(cirq.LineQubit(0)), (cirq.Y**-0.5).on(cirq.LineQubit(0)), cirq.CZ(cirq.LineQubit(1), cirq.LineQubit(0)), (cirq.Y**0.5).on(cirq.LineQubit(0)), (cirq.T**-1).on(cirq.LineQubit(0)), (cirq.Y**0.5).on(cirq.LineQubit(0)), cirq.XPowGate(exponent=1.0, global_shift=-0.25).on(cirq.LineQubit(0)), (cirq.Y**-0.5).on(cirq.LineQubit(1)), cirq.CZ(cirq.LineQubit(0), cirq.LineQubit(1)), (cirq.Y**0.5).on(cirq.LineQubit(1))]\n",
      "0: ────────────@───Y^0.5───X───Y^-0.5───@───Y^0.5───T───Y^-0.5───@───Y^0.5────T^-1───Y^0.5───X───@───────────\n",
      "               │                        │                        │                               │\n",
      "1: ───Y^-0.5───@───Y^0.5────────────────@────────────────────────@───Y^-0.5──────────────────────@───Y^0.5───\n"
     ]
    }
   ],
   "source": [
    "g = (cirq.ISWAP ** 0.5).on(*cirq.LineQubit.range(2))\n",
    "g = cirq.decompose(g)\n",
    "print(g)\n",
    "c = cirq.Circuit(g)\n",
    "print(c)\n",
    "xmon_converter = cirq.google.ConvertToXmonGates()"
   ]
  },
  {
   "cell_type": "code",
   "execution_count": 512,
   "metadata": {},
   "outputs": [],
   "source": [
    "def is_adjacent(q1, q2):\n",
    "    return (q1.row == q2.row and np.abs(q1.col - q2.col) == 1) or (np.abs(q1.row - q2.row) == 1 and q1.col == q2.col)\n",
    "\n",
    "def swap_path(qs, q1, q2):\n",
    "    path = []\n",
    "    if q1 == q2:\n",
    "        return path\n",
    "    q = q1\n",
    "    while not is_adjacent(q, q2):\n",
    "        if not q2.row - q.row == 0:\n",
    "            row_dir = int((q2.row - q.row)/np.abs(q2.row - q.row))\n",
    "            if cirq.GridQubit(q.row + row_dir, q.col) in qs:\n",
    "                q = cirq.GridQubit(q.row + row_dir, q.col)\n",
    "                path.append(q)\n",
    "                continue\n",
    "        if not q2.col - q.col == 0:\n",
    "            col_dir = int((q2.col - q.col)/np.abs(q2.col - q.col))\n",
    "            q = cirq.GridQubit(q.row, q.col + col_dir)\n",
    "            path.append(q)\n",
    "    return path"
   ]
  },
  {
   "cell_type": "code",
   "execution_count": 513,
   "metadata": {},
   "outputs": [
    {
     "name": "stdout",
     "output_type": "stream",
     "text": [
      "(3, 3)\n",
      "(4, 6)\n"
     ]
    }
   ],
   "source": [
    "qs = cirq.GridQubit.square(int(np.sqrt(16)), 3, 3)\n",
    "q1 = qs[0]\n",
    "q2 = qs[7]\n",
    "print(q1)\n",
    "print(q2)\n",
    "sp = swap_path(qs, qs[0], qs[7])"
   ]
  },
  {
   "cell_type": "code",
   "execution_count": 514,
   "metadata": {},
   "outputs": [
    {
     "name": "stdout",
     "output_type": "stream",
     "text": [
      "(3, 3)\n",
      "(4, 6)\n",
      "[cirq.GridQubit(4, 3), cirq.GridQubit(4, 4), cirq.GridQubit(4, 5)]\n"
     ]
    }
   ],
   "source": [
    "print(q1)\n",
    "print(q2)\n",
    "print(sp)"
   ]
  },
  {
   "cell_type": "code",
   "execution_count": 515,
   "metadata": {},
   "outputs": [],
   "source": [
    "def two_q_sycamore(g, q1, q2, qs):\n",
    "    sp = swap_path(qs, q1, q2)\n",
    "    if len(sp) == 0:\n",
    "        yield g(q1, q2)\n",
    "        return\n",
    "    q = q1\n",
    "    for i in range(len(sp)):\n",
    "        yield cirq.SWAP(q, sp[i])\n",
    "        q = sp[i]\n",
    "    yield g.on(q, q2)\n",
    "    sp.reverse()\n",
    "    for i in range(1, len(sp)):\n",
    "        yield cirq.SWAP(q, sp[i])\n",
    "        q = sp[i]\n",
    "    yield cirq.SWAP(q, q1)\n",
    "    \n",
    "q1 = qs[2]\n",
    "q2 = qs[1]\n",
    "    \n",
    "c = cirq.Circuit(two_q_sycamore(cirq.CX, q1, q2, qs))"
   ]
  },
  {
   "cell_type": "code",
   "execution_count": 508,
   "metadata": {},
   "outputs": [
    {
     "name": "stdout",
     "output_type": "stream",
     "text": [
      "(3, 4): ───X───\n",
      "           │\n",
      "(3, 5): ───@───\n"
     ]
    }
   ],
   "source": [
    "print(c)"
   ]
  },
  {
   "cell_type": "code",
   "execution_count": 492,
   "metadata": {},
   "outputs": [
    {
     "name": "stdout",
     "output_type": "stream",
     "text": [
      "(cirq.LineQubit(0), cirq.LineQubit(1))\n"
     ]
    }
   ],
   "source": [
    "g = cirq.CX(*cirq.LineQubit.range(2))\n",
    "print(g.qubits)"
   ]
  },
  {
   "cell_type": "code",
   "execution_count": 517,
   "metadata": {},
   "outputs": [
    {
     "data": {
      "text/plain": [
       "[cirq.PhasedXPowGate(phase_exponent=0.44650378384076217, exponent=0.8817921214052824).on(cirq.LineQubit(0)),\n",
       " cirq.PhasedXPowGate(phase_exponent=-0.7656774060816165, exponent=0.6628666504604785).on(cirq.LineQubit(1)),\n",
       " cirq.google.SYC(cirq.LineQubit(0), cirq.LineQubit(1)),\n",
       " cirq.PhasedXPowGate(phase_exponent=-0.6277589946716742, exponent=0.5659160932099687).on(cirq.LineQubit(0)),\n",
       " cirq.google.SYC(cirq.LineQubit(0), cirq.LineQubit(1)),\n",
       " cirq.PhasedXPowGate(phase_exponent=0.28890767199499257, exponent=0.4340839067900317).on(cirq.LineQubit(1)),\n",
       " cirq.PhasedXPowGate(phase_exponent=-0.22592784059288928).on(cirq.LineQubit(0)),\n",
       " cirq.google.SYC(cirq.LineQubit(0), cirq.LineQubit(1)),\n",
       " cirq.PhasedXPowGate(phase_exponent=-0.4691261557936808, exponent=0.7728525693920243).on(cirq.LineQubit(0)),\n",
       " cirq.PhasedXPowGate(phase_exponent=-0.8150261316932077, exponent=0.11820787859471782).on(cirq.LineQubit(1)),\n",
       " (cirq.Z**-0.7384700844660306).on(cirq.LineQubit(1)),\n",
       " (cirq.Z**-0.7034535141382525).on(cirq.LineQubit(0))]"
      ]
     },
     "execution_count": 517,
     "metadata": {},
     "output_type": "execute_result"
    }
   ],
   "source": [
    "g = cirq.SWAP(*cirq.LineQubit.range(2))\n",
    "converter.convert(g)"
   ]
  },
  {
   "cell_type": "code",
   "execution_count": 547,
   "metadata": {},
   "outputs": [],
   "source": [
    "def controlled_sqrt_iswap(qs):\n",
    "    c = cirq.Circuit()\n",
    "    c.append(cirq.ControlledGate(cirq.Y ** -0.5).on(qs[0], qs[2]))\n",
    "    c.append(cirq.CCZ.on(qs[0], qs[1], qs[2]))\n",
    "    c.append(cirq.ControlledGate(cirq.Y ** 0.5).on(qs[0], qs[2]))\n",
    "    c.append(cirq.ControlledGate(cirq.Y ** 0.5).on(qs[0], qs[1]))\n",
    "    c.append(cirq.CX.on(qs[0], qs[1]))\n",
    "    c.append(cirq.ControlledGate(cirq.Y ** -0.5).on(qs[0], qs[1]))\n",
    "    c.append(cirq.CCZ(qs[0], qs[1], qs[2]))\n",
    "    c.append(cirq.ControlledGate(cirq.Y**0.5).on(qs[0], qs[1]))\n",
    "    c.append(cirq.ControlledGate(cirq.T).on(qs[0], qs[1]))\n",
    "    c.append(cirq.ControlledGate(cirq.Y**-0.5).on(qs[0], qs[1]))\n",
    "    c.append(cirq.CCZ(qs[0], qs[1], qs[2]))\n",
    "    c.append(cirq.ControlledGate(cirq.Y ** -0.5).on(qs[0], qs[2]))\n",
    "    c.append(cirq.ControlledGate(cirq.Y**0.5).on(qs[0], qs[1]))\n",
    "    c.append(cirq.ControlledGate(cirq.T ** -1).on(qs[0], qs[1]))\n",
    "    c.append(cirq.ControlledGate(cirq.Y**0.5).on(qs[0], qs[1]))\n",
    "    c.append(cirq.CX.on(qs[0], qs[1]))\n",
    "    c.append(cirq.CCZ.on(qs[0], qs[1], qs[2]))\n",
    "    c.append(cirq.ControlledGate(cirq.Y ** 0.5).on(qs[0], qs[2]))\n",
    "    return c\n",
    "\n",
    "c2 = controlled_sqrt_iswap(cirq.LineQubit.range(3))"
   ]
  },
  {
   "cell_type": "code",
   "execution_count": 548,
   "metadata": {},
   "outputs": [
    {
     "name": "stdout",
     "output_type": "stream",
     "text": [
      "[[1.        +0.00000000e+00j 0.        +0.00000000e+00j\n",
      "  0.        +0.00000000e+00j 0.        +0.00000000e+00j\n",
      "  0.        +0.00000000e+00j 0.        +0.00000000e+00j\n",
      "  0.        +0.00000000e+00j 0.        +0.00000000e+00j]\n",
      " [0.        +0.00000000e+00j 1.        +0.00000000e+00j\n",
      "  0.        +0.00000000e+00j 0.        +0.00000000e+00j\n",
      "  0.        +0.00000000e+00j 0.        +0.00000000e+00j\n",
      "  0.        +0.00000000e+00j 0.        +0.00000000e+00j]\n",
      " [0.        +0.00000000e+00j 0.        +0.00000000e+00j\n",
      "  1.        +0.00000000e+00j 0.        +0.00000000e+00j\n",
      "  0.        +0.00000000e+00j 0.        +0.00000000e+00j\n",
      "  0.        +0.00000000e+00j 0.        +0.00000000e+00j]\n",
      " [0.        +0.00000000e+00j 0.        +0.00000000e+00j\n",
      "  0.        +0.00000000e+00j 1.        +0.00000000e+00j\n",
      "  0.        +0.00000000e+00j 0.        +0.00000000e+00j\n",
      "  0.        +0.00000000e+00j 0.        +0.00000000e+00j]\n",
      " [0.        +0.00000000e+00j 0.        +0.00000000e+00j\n",
      "  0.        +0.00000000e+00j 0.        +0.00000000e+00j\n",
      "  1.        +1.11022302e-16j 0.        +0.00000000e+00j\n",
      "  0.        +0.00000000e+00j 0.        +0.00000000e+00j]\n",
      " [0.        +0.00000000e+00j 0.        +0.00000000e+00j\n",
      "  0.        +0.00000000e+00j 0.        +0.00000000e+00j\n",
      "  0.        +0.00000000e+00j 0.70710678+0.00000000e+00j\n",
      "  0.        +7.07106781e-01j 0.        +0.00000000e+00j]\n",
      " [0.        +0.00000000e+00j 0.        +0.00000000e+00j\n",
      "  0.        +0.00000000e+00j 0.        +0.00000000e+00j\n",
      "  0.        +0.00000000e+00j 0.        +7.07106781e-01j\n",
      "  0.70710678+0.00000000e+00j 0.        +0.00000000e+00j]\n",
      " [0.        +0.00000000e+00j 0.        +0.00000000e+00j\n",
      "  0.        +0.00000000e+00j 0.        +0.00000000e+00j\n",
      "  0.        +0.00000000e+00j 0.        +0.00000000e+00j\n",
      "  0.        +0.00000000e+00j 1.        +1.11022302e-16j]]\n"
     ]
    }
   ],
   "source": [
    "print(cirq.unitary(c))"
   ]
  },
  {
   "cell_type": "code",
   "execution_count": 546,
   "metadata": {},
   "outputs": [
    {
     "name": "stdout",
     "output_type": "stream",
     "text": [
      "[[1.        +0.00000000e+00j 0.        +0.00000000e+00j\n",
      "  0.        +0.00000000e+00j 0.        +0.00000000e+00j\n",
      "  0.        +0.00000000e+00j 0.        +0.00000000e+00j\n",
      "  0.        +0.00000000e+00j 0.        +0.00000000e+00j]\n",
      " [0.        +0.00000000e+00j 1.        +0.00000000e+00j\n",
      "  0.        +0.00000000e+00j 0.        +0.00000000e+00j\n",
      "  0.        +0.00000000e+00j 0.        +0.00000000e+00j\n",
      "  0.        +0.00000000e+00j 0.        +0.00000000e+00j]\n",
      " [0.        +0.00000000e+00j 0.        +0.00000000e+00j\n",
      "  1.        +0.00000000e+00j 0.        +0.00000000e+00j\n",
      "  0.        +0.00000000e+00j 0.        +0.00000000e+00j\n",
      "  0.        +0.00000000e+00j 0.        +0.00000000e+00j]\n",
      " [0.        +0.00000000e+00j 0.        +0.00000000e+00j\n",
      "  0.        +0.00000000e+00j 1.        +0.00000000e+00j\n",
      "  0.        +0.00000000e+00j 0.        +0.00000000e+00j\n",
      "  0.        +0.00000000e+00j 0.        +0.00000000e+00j]\n",
      " [0.        +0.00000000e+00j 0.        +0.00000000e+00j\n",
      "  0.        +0.00000000e+00j 0.        +0.00000000e+00j\n",
      "  1.        +1.11022302e-16j 0.        +0.00000000e+00j\n",
      "  0.        +0.00000000e+00j 0.        +0.00000000e+00j]\n",
      " [0.        +0.00000000e+00j 0.        +0.00000000e+00j\n",
      "  0.        +0.00000000e+00j 0.        +0.00000000e+00j\n",
      "  0.        +0.00000000e+00j 0.70710678+0.00000000e+00j\n",
      "  0.        +7.07106781e-01j 0.        +0.00000000e+00j]\n",
      " [0.        +0.00000000e+00j 0.        +0.00000000e+00j\n",
      "  0.        +0.00000000e+00j 0.        +0.00000000e+00j\n",
      "  0.        +0.00000000e+00j 0.        +7.07106781e-01j\n",
      "  0.70710678+0.00000000e+00j 0.        +0.00000000e+00j]\n",
      " [0.        +0.00000000e+00j 0.        +0.00000000e+00j\n",
      "  0.        +0.00000000e+00j 0.        +0.00000000e+00j\n",
      "  0.        +0.00000000e+00j 0.        +0.00000000e+00j\n",
      "  0.        +0.00000000e+00j 1.        +1.11022302e-16j]]\n",
      "[[ 1.00000000e+00+0.00000000e+00j  0.00000000e+00+0.00000000e+00j\n",
      "   0.00000000e+00+0.00000000e+00j  0.00000000e+00+0.00000000e+00j\n",
      "   0.00000000e+00+0.00000000e+00j  0.00000000e+00+0.00000000e+00j\n",
      "   0.00000000e+00+0.00000000e+00j  0.00000000e+00+0.00000000e+00j]\n",
      " [-0.00000000e+00+0.00000000e+00j -1.00000000e+00+0.00000000e+00j\n",
      "  -0.00000000e+00+0.00000000e+00j -0.00000000e+00+0.00000000e+00j\n",
      "  -0.00000000e+00+0.00000000e+00j -0.00000000e+00+0.00000000e+00j\n",
      "  -0.00000000e+00+0.00000000e+00j -0.00000000e+00+0.00000000e+00j]\n",
      " [ 0.00000000e+00+0.00000000e+00j  0.00000000e+00+0.00000000e+00j\n",
      "   1.00000000e+00+0.00000000e+00j  0.00000000e+00+0.00000000e+00j\n",
      "   0.00000000e+00+0.00000000e+00j  0.00000000e+00+0.00000000e+00j\n",
      "   0.00000000e+00+0.00000000e+00j  0.00000000e+00+0.00000000e+00j]\n",
      " [-0.00000000e+00+0.00000000e+00j -0.00000000e+00+0.00000000e+00j\n",
      "  -0.00000000e+00+0.00000000e+00j -1.00000000e+00+0.00000000e+00j\n",
      "  -0.00000000e+00+0.00000000e+00j -0.00000000e+00+0.00000000e+00j\n",
      "  -0.00000000e+00+0.00000000e+00j -0.00000000e+00+0.00000000e+00j]\n",
      " [ 0.00000000e+00+0.00000000e+00j  0.00000000e+00+0.00000000e+00j\n",
      "   0.00000000e+00+0.00000000e+00j  0.00000000e+00+0.00000000e+00j\n",
      "  -5.55111512e-17+1.00000000e+00j  0.00000000e+00+0.00000000e+00j\n",
      "   0.00000000e+00+0.00000000e+00j  5.55111512e-17+5.55111512e-17j]\n",
      " [-0.00000000e+00+0.00000000e+00j -0.00000000e+00+0.00000000e+00j\n",
      "  -0.00000000e+00+0.00000000e+00j -0.00000000e+00+0.00000000e+00j\n",
      "  -0.00000000e+00+0.00000000e+00j -0.00000000e+00-7.07106781e-01j\n",
      "   7.07106781e-01-2.22044605e-16j -0.00000000e+00+0.00000000e+00j]\n",
      " [ 0.00000000e+00+0.00000000e+00j  0.00000000e+00+0.00000000e+00j\n",
      "   0.00000000e+00+0.00000000e+00j  0.00000000e+00+0.00000000e+00j\n",
      "  -6.16297582e-33+3.08148791e-33j -7.07106781e-01+5.55111512e-17j\n",
      "   3.88578059e-16+7.07106781e-01j -5.55111512e-17+0.00000000e+00j]\n",
      " [-0.00000000e+00+0.00000000e+00j -0.00000000e+00+0.00000000e+00j\n",
      "  -0.00000000e+00+0.00000000e+00j -0.00000000e+00+0.00000000e+00j\n",
      "  -5.55111512e-17-5.55111512e-17j  0.00000000e+00+5.55111512e-17j\n",
      "   1.66533454e-16+1.11022302e-16j -0.00000000e+00-1.00000000e+00j]]\n",
      "0: ───@────────@───@───────@───────@───@────────@───@───────@───@────────@───@───────@──────@───────@───@────────@───@───────\n",
      "      │        │   │       │       │   │        │   │       │   │        │   │       │      │       │   │        │   │\n",
      "1: ───┼────────@───┼───────Y^0.5───X───Y^-0.5───@───Y^0.5───T───Y^-0.5───@───Y^0.5───T^-1───Y^0.5───X───┼────────@───┼───────\n",
      "      │        │   │                            │                        │                              │        │   │\n",
      "2: ───Y^-0.5───@───Y^0.5────────────────────────@────────────────────────@──────────────────────────────Y^-0.5───@───Y^0.5───\n",
      "[[ True  True  True  True  True  True  True  True]\n",
      " [ True False  True  True  True  True  True  True]\n",
      " [ True  True  True  True  True  True  True  True]\n",
      " [ True  True  True False  True  True  True  True]\n",
      " [ True  True  True  True False  True  True  True]\n",
      " [ True  True  True  True  True False False  True]\n",
      " [ True  True  True  True  True False False  True]\n",
      " [ True  True  True  True  True  True  True False]]\n"
     ]
    }
   ],
   "source": [
    "g = cirq.ControlledGate(cirq.ISWAP ** 0.5)\n",
    "g = cirq.decompose(g.on(*cirq.LineQubit.range(3)))\n",
    "c = cirq.Circuit(g)\n",
    "print(cirq.unitary(c))\n",
    "print(cirq.unitary(c2))\n",
    "print(c)\n",
    "print(np.isclose(cirq.unitary(c), cirq.unitary(c2)))"
   ]
  },
  {
   "cell_type": "code",
   "execution_count": 530,
   "metadata": {},
   "outputs": [
    {
     "name": "stdout",
     "output_type": "stream",
     "text": [
      "(array([[ 1.        +0.j        ,  0.        +0.j        ,\n",
      "         0.        +0.j        ,  0.        +0.j        ,\n",
      "         0.        +0.j        ,  0.        +0.j        ,\n",
      "         0.        +0.j        ,  0.        +0.j        ],\n",
      "       [ 0.        +0.j        ,  1.        +0.j        ,\n",
      "         0.        +0.j        ,  0.        +0.j        ,\n",
      "         0.        +0.j        ,  0.        +0.j        ,\n",
      "         0.        +0.j        ,  0.        +0.j        ],\n",
      "       [ 0.        +0.j        ,  0.        +0.j        ,\n",
      "         1.        +0.j        ,  0.        +0.j        ,\n",
      "         0.        +0.j        ,  0.        +0.j        ,\n",
      "         0.        +0.j        ,  0.        +0.j        ],\n",
      "       [ 0.        +0.j        ,  0.        +0.j        ,\n",
      "         0.        +0.j        ,  1.        +0.j        ,\n",
      "         0.        +0.j        ,  0.        +0.j        ,\n",
      "         0.        +0.j        ,  0.        +0.j        ],\n",
      "       [ 0.        +0.j        ,  0.        +0.j        ,\n",
      "         0.        +0.j        ,  0.        +0.j        ,\n",
      "         1.        +0.j        ,  0.        +0.j        ,\n",
      "         0.        +0.j        ,  0.        +0.j        ],\n",
      "       [ 0.        +0.j        ,  0.        +0.j        ,\n",
      "         0.        +0.j        ,  0.        +0.j        ,\n",
      "         0.        +0.j        , -0.70710678+0.j        ,\n",
      "         0.70710678+0.j        ,  0.        +0.j        ],\n",
      "       [ 0.        +0.j        ,  0.        +0.j        ,\n",
      "         0.        +0.j        ,  0.        +0.j        ,\n",
      "         0.        +0.j        ,  0.        -0.70710678j,\n",
      "         0.        -0.70710678j,  0.        +0.j        ],\n",
      "       [ 0.        +0.j        ,  0.        +0.j        ,\n",
      "         0.        +0.j        ,  0.        +0.j        ,\n",
      "         0.        +0.j        ,  0.        +0.j        ,\n",
      "         0.        +0.j        ,  1.        +0.j        ]]), array([1., 1., 1., 1., 1., 1., 1., 1.]), array([[ 1.+0.j,  0.+0.j,  0.+0.j,  0.+0.j,  0.+0.j,  0.+0.j,  0.+0.j,\n",
      "         0.+0.j],\n",
      "       [ 0.+0.j,  1.+0.j,  0.+0.j,  0.+0.j,  0.+0.j,  0.+0.j,  0.+0.j,\n",
      "         0.+0.j],\n",
      "       [ 0.+0.j,  0.+0.j,  1.+0.j,  0.+0.j,  0.+0.j,  0.+0.j,  0.+0.j,\n",
      "         0.+0.j],\n",
      "       [ 0.+0.j,  0.+0.j,  0.+0.j,  1.+0.j,  0.+0.j,  0.+0.j,  0.+0.j,\n",
      "         0.+0.j],\n",
      "       [ 0.+0.j,  0.+0.j,  0.+0.j,  0.+0.j,  1.+0.j,  0.+0.j,  0.+0.j,\n",
      "         0.+0.j],\n",
      "       [-0.+0.j, -0.+0.j, -0.+0.j, -0.+0.j, -0.+0.j, -1.+0.j,  0.+0.j,\n",
      "        -0.+0.j],\n",
      "       [-0.+0.j, -0.+0.j, -0.+0.j, -0.+0.j, -0.+0.j, -0.+0.j,  0.+1.j,\n",
      "        -0.+0.j],\n",
      "       [ 0.+0.j,  0.+0.j,  0.+0.j,  0.+0.j,  0.+0.j,  0.+0.j,  0.+0.j,\n",
      "         1.+0.j]]))\n"
     ]
    }
   ],
   "source": [
    "u = cirq.unitary(cirq.ControlledGate(cirq.ISWAP ** 0.5))\n",
    "print(svd(u))"
   ]
  },
  {
   "cell_type": "code",
   "execution_count": 526,
   "metadata": {
    "scrolled": false
   },
   "outputs": [
    {
     "name": "stdout",
     "output_type": "stream",
     "text": [
      "0: ───@────────@───@───────@───────@───@────────@───@───────@───@────────@───@────────@───────@──────@───────@───@───@───────\n",
      "      │        │   │       │       │   │        │   │       │   │        │   │        │       │      │       │   │   │\n",
      "1: ───┼────────@───┼───────Y^0.5───X───Y^-0.5───@───Y^0.5───T───Y^-0.5───@───┼────────Y^0.5───T^-1───Y^0.5───X───@───┼───────\n",
      "      │        │   │                            │                        │   │                                   │   │\n",
      "2: ───Y^-0.5───@───Y^0.5────────────────────────@────────────────────────@───Y^-0.5──────────────────────────────@───Y^0.5───\n"
     ]
    }
   ],
   "source": [
    "print(c)"
   ]
  },
  {
   "cell_type": "code",
   "execution_count": 550,
   "metadata": {},
   "outputs": [
    {
     "data": {
      "text/plain": [
       "[cirq.XXPowGate(exponent=-0.25, global_shift=-0.5).on(cirq.LineQubit(1), cirq.LineQubit(2)).controlled_by(cirq.LineQubit(0)),\n",
       " cirq.YYPowGate(exponent=-0.25, global_shift=-0.5).on(cirq.LineQubit(1), cirq.LineQubit(2)).controlled_by(cirq.LineQubit(0)),\n",
       " (cirq.CZ**-0.0).on(cirq.LineQubit(1), cirq.LineQubit(2)).controlled_by(cirq.LineQubit(0))]"
      ]
     },
     "execution_count": 550,
     "metadata": {},
     "output_type": "execute_result"
    }
   ],
   "source": [
    "g = cirq.ControlledGate(cirq.FSimGate(-np.pi/4, 0))\n",
    "cirq.decompose(g.on(*cirq.LineQubit.range(3)))"
   ]
  },
  {
   "cell_type": "code",
   "execution_count": null,
   "metadata": {},
   "outputs": [],
   "source": []
  }
 ],
 "metadata": {
  "kernelspec": {
   "display_name": "Python 3",
   "language": "python",
   "name": "python3"
  },
  "language_info": {
   "codemirror_mode": {
    "name": "ipython",
    "version": 3
   },
   "file_extension": ".py",
   "mimetype": "text/x-python",
   "name": "python",
   "nbconvert_exporter": "python",
   "pygments_lexer": "ipython3",
   "version": "3.7.4"
  }
 },
 "nbformat": 4,
 "nbformat_minor": 2
}
