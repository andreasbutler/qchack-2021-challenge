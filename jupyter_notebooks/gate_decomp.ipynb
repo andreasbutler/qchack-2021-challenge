{
 "cells": [
  {
   "cell_type": "code",
   "execution_count": 3,
   "metadata": {},
   "outputs": [],
   "source": [
    "import numpy as np\n",
    "import cirq\n",
    "from scipy.linalg import cossin"
   ]
  },
  {
   "cell_type": "code",
   "execution_count": 8,
   "metadata": {},
   "outputs": [],
   "source": [
    "s = np.random.RandomState(seed=12312422)\n",
    "n_qubits = 3\n",
    "ru = cirq.testing.random_unitary(2 ** n_qubits, random_state=s)"
   ]
  },
  {
   "cell_type": "code",
   "execution_count": 15,
   "metadata": {},
   "outputs": [
    {
     "name": "stdout",
     "output_type": "stream",
     "text": [
      "[[-0.46728057+0.2394221j   0.1993699 -0.14654427j  0.21750654-0.33830367j\n",
      "  -0.52774012+0.47205322j  0.        +0.j          0.        +0.j\n",
      "   0.        +0.j          0.        +0.j        ]\n",
      " [-0.41229169+0.07785527j -0.17814596-0.58727756j -0.08733885-0.34064077j\n",
      "   0.20321846-0.53137675j  0.        +0.j          0.        +0.j\n",
      "   0.        +0.j          0.        +0.j        ]\n",
      " [-0.13938526+0.00834367j  0.29061691+0.61257155j -0.38182908-0.57085447j\n",
      "   0.09733361-0.199143j    0.        +0.j          0.        +0.j\n",
      "   0.        +0.j          0.        +0.j        ]\n",
      " [-0.29476031-0.66475449j -0.3132834 -0.06555094j -0.49191028+0.03055023j\n",
      "  -0.04873235+0.35141219j  0.        +0.j          0.        +0.j\n",
      "   0.        +0.j          0.        +0.j        ]\n",
      " [ 0.        +0.j          0.        +0.j          0.        +0.j\n",
      "   0.        +0.j         -0.36032935-0.32336881j  0.1592239 +0.61290433j\n",
      "  -0.06747696+0.01528501j  0.5782747 -0.15938321j]\n",
      " [ 0.        +0.j          0.        +0.j          0.        +0.j\n",
      "   0.        +0.j          0.69398191-0.17021966j  0.35755762+0.24196024j\n",
      "   0.42207346+0.32883172j -0.01259779-0.12879112j]\n",
      " [ 0.        +0.j          0.        +0.j          0.        +0.j\n",
      "   0.        +0.j         -0.18111582+0.25515016j -0.32676597-0.25013864j\n",
      "   0.72097574+0.10329116j  0.43695437-0.10651724j]\n",
      " [ 0.        +0.j          0.        +0.j          0.        +0.j\n",
      "   0.        +0.j          0.17936155-0.35346094j -0.36239072-0.33456157j\n",
      "  -0.33124341+0.26218248j  0.14879922-0.6316908j ]]\n"
     ]
    },
    {
     "name": "stderr",
     "output_type": "stream",
     "text": [
      "/usr/local/anaconda3/lib/python3.7/site-packages/ipykernel_launcher.py:7: ComplexWarning: Casting complex values to real discards the imaginary part\n",
      "  import sys\n"
     ]
    }
   ],
   "source": [
    "p = 2**(n_qubits - 1)\n",
    "q = 2**(n_qubits - 1)\n",
    "decomp1 = cossin(np.array(ru), p = 2**(n_qubits-1), q=2**(n_qubits-1))\n",
    "print(decomp1[0])\n",
    "decomp1_arr = []\n",
    "decomp1_a = np.eye(2**n_qubits)\n",
    "decomp1_a[:p][:p] = decomp1[0][:p][:p]\n",
    "decomp1_arr.append(decomp1[:p][:p])\n"
   ]
  },
  {
   "cell_type": "code",
   "execution_count": null,
   "metadata": {},
   "outputs": [],
   "source": [
    "n_qubits = 8\n",
    "\n",
    "def recursive_cossin_decomp(u, p)\n",
    "    decomp = cossin(u, p=p, q=p)\n",
    "    L = decomp[0]\n",
    "    D = decomp[1]\n",
    "    R = decomp[2]\n",
    "    \n",
    "    if p == 2:\n",
    "        return L, D, R\n",
    "    \n",
    "    if not p == 2:\n",
    "        holderLT = np.eye(2 * p)\n",
    "        holderLT[:p][:p] = LTL\n",
    "        holderLT[][p:] = \n",
    "        \n",
    "        LTL, LTD, LTR = recursive_cossin_decomp(L[:p][:p], p/2)\n",
    "        RTL, RTD, RTR = recursive_cossin_decomp(R[:p][:p], p/2)\n",
    "        LBL, LBD, LBR = recursive_cossin_decomp(L[p:][p:], p/2)\n",
    "        RBL, RBD, RBR = recursive_cossin_decomp(R[p:][p:], p/2)\n",
    "        \n",
    "        \n",
    "        \n",
    "    "
   ]
  }
 ],
 "metadata": {
  "kernelspec": {
   "display_name": "Python 3",
   "language": "python",
   "name": "python3"
  },
  "language_info": {
   "codemirror_mode": {
    "name": "ipython",
    "version": 3
   },
   "file_extension": ".py",
   "mimetype": "text/x-python",
   "name": "python",
   "nbconvert_exporter": "python",
   "pygments_lexer": "ipython3",
   "version": "3.7.4"
  }
 },
 "nbformat": 4,
 "nbformat_minor": 2
}
